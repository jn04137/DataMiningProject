{
 "cells": [
  {
   "cell_type": "code",
   "execution_count": 1,
   "metadata": {},
   "outputs": [
    {
     "name": "stderr",
     "output_type": "stream",
     "text": [
      "2022-04-16 13:31:40.786578: I tensorflow/stream_executor/platform/default/dso_loader.cc:49] Successfully opened dynamic library libcudart.so.10.1\n"
     ]
    }
   ],
   "source": [
    "import pandas as pd\n",
    "\n",
    "import tensorflow as tf\n",
    "\n",
    "from sklearn.preprocessing import StandardScaler"
   ]
  },
  {
   "cell_type": "markdown",
   "metadata": {},
   "source": [
    "STONKS ONLY GO UP\n",
    "\n",
    "1. Apple (AAPL)\n",
    "2. Microsoft (MSFT)\n",
    "3. Texas Instruments (TXN)\n",
    "4. Sony (SONY)\n",
    "5. Google (GOOG)\n",
    "6. Tesla (TSLA)\n",
    "7. Coke (KO)\n",
    "8. Chipotle (CMG)\n",
    "9. NVIDIA (NVDA)\n",
    "10. AMD (AMD)\n",
    "\n",
    "Maybes\n",
    "1. Facebook (FB)\n",
    "2. Intel (INTC)\n",
    "\n",
    "Stable Stocks\n",
    "1. S&P 500 (VOO or SPY)\n",
    "2. NASDAQ 100\n"
   ]
  },
  {
   "cell_type": "code",
   "execution_count": 2,
   "metadata": {},
   "outputs": [
    {
     "name": "stdout",
     "output_type": "stream",
     "text": [
      "1 Physical GPUs, 1 Logical GPUs\n"
     ]
    },
    {
     "name": "stderr",
     "output_type": "stream",
     "text": [
      "2022-04-16 13:31:41.587867: I tensorflow/compiler/jit/xla_cpu_device.cc:41] Not creating XLA devices, tf_xla_enable_xla_devices not set\n",
      "2022-04-16 13:31:41.590348: I tensorflow/stream_executor/platform/default/dso_loader.cc:49] Successfully opened dynamic library libcuda.so.1\n",
      "2022-04-16 13:31:41.606855: I tensorflow/stream_executor/cuda/cuda_gpu_executor.cc:941] successful NUMA node read from SysFS had negative value (-1), but there must be at least one NUMA node, so returning NUMA node zero\n",
      "2022-04-16 13:31:41.606940: I tensorflow/core/common_runtime/gpu/gpu_device.cc:1720] Found device 0 with properties: \n",
      "pciBusID: 0000:01:00.0 name: NVIDIA GeForce RTX 2080 Ti computeCapability: 7.5\n",
      "coreClock: 1.65GHz coreCount: 68 deviceMemorySize: 10.76GiB deviceMemoryBandwidth: 573.69GiB/s\n",
      "2022-04-16 13:31:41.606953: I tensorflow/stream_executor/platform/default/dso_loader.cc:49] Successfully opened dynamic library libcudart.so.10.1\n",
      "2022-04-16 13:31:41.607916: I tensorflow/stream_executor/platform/default/dso_loader.cc:49] Successfully opened dynamic library libcublas.so.10\n",
      "2022-04-16 13:31:41.607943: I tensorflow/stream_executor/platform/default/dso_loader.cc:49] Successfully opened dynamic library libcublasLt.so.10\n",
      "2022-04-16 13:31:41.608862: I tensorflow/stream_executor/platform/default/dso_loader.cc:49] Successfully opened dynamic library libcufft.so.10\n",
      "2022-04-16 13:31:41.609034: I tensorflow/stream_executor/platform/default/dso_loader.cc:49] Successfully opened dynamic library libcurand.so.10\n",
      "2022-04-16 13:31:41.610002: I tensorflow/stream_executor/platform/default/dso_loader.cc:49] Successfully opened dynamic library libcusolver.so.10\n",
      "2022-04-16 13:31:41.610510: I tensorflow/stream_executor/platform/default/dso_loader.cc:49] Successfully opened dynamic library libcusparse.so.10\n",
      "2022-04-16 13:31:41.612525: I tensorflow/stream_executor/platform/default/dso_loader.cc:49] Successfully opened dynamic library libcudnn.so.7\n",
      "2022-04-16 13:31:41.612599: I tensorflow/stream_executor/cuda/cuda_gpu_executor.cc:941] successful NUMA node read from SysFS had negative value (-1), but there must be at least one NUMA node, so returning NUMA node zero\n",
      "2022-04-16 13:31:41.612710: I tensorflow/stream_executor/cuda/cuda_gpu_executor.cc:941] successful NUMA node read from SysFS had negative value (-1), but there must be at least one NUMA node, so returning NUMA node zero\n",
      "2022-04-16 13:31:41.612767: I tensorflow/core/common_runtime/gpu/gpu_device.cc:1862] Adding visible gpu devices: 0\n",
      "2022-04-16 13:31:41.613250: I tensorflow/core/platform/cpu_feature_guard.cc:142] This TensorFlow binary is optimized with oneAPI Deep Neural Network Library (oneDNN) to use the following CPU instructions in performance-critical operations:  SSE4.1 SSE4.2 AVX AVX2 FMA\n",
      "To enable them in other operations, rebuild TensorFlow with the appropriate compiler flags.\n",
      "2022-04-16 13:31:41.613744: I tensorflow/stream_executor/cuda/cuda_gpu_executor.cc:941] successful NUMA node read from SysFS had negative value (-1), but there must be at least one NUMA node, so returning NUMA node zero\n",
      "2022-04-16 13:31:41.613822: I tensorflow/core/common_runtime/gpu/gpu_device.cc:1720] Found device 0 with properties: \n",
      "pciBusID: 0000:01:00.0 name: NVIDIA GeForce RTX 2080 Ti computeCapability: 7.5\n",
      "coreClock: 1.65GHz coreCount: 68 deviceMemorySize: 10.76GiB deviceMemoryBandwidth: 573.69GiB/s\n",
      "2022-04-16 13:31:41.613838: I tensorflow/stream_executor/platform/default/dso_loader.cc:49] Successfully opened dynamic library libcudart.so.10.1\n",
      "2022-04-16 13:31:41.613851: I tensorflow/stream_executor/platform/default/dso_loader.cc:49] Successfully opened dynamic library libcublas.so.10\n",
      "2022-04-16 13:31:41.613861: I tensorflow/stream_executor/platform/default/dso_loader.cc:49] Successfully opened dynamic library libcublasLt.so.10\n",
      "2022-04-16 13:31:41.613871: I tensorflow/stream_executor/platform/default/dso_loader.cc:49] Successfully opened dynamic library libcufft.so.10\n",
      "2022-04-16 13:31:41.613881: I tensorflow/stream_executor/platform/default/dso_loader.cc:49] Successfully opened dynamic library libcurand.so.10\n",
      "2022-04-16 13:31:41.613890: I tensorflow/stream_executor/platform/default/dso_loader.cc:49] Successfully opened dynamic library libcusolver.so.10\n",
      "2022-04-16 13:31:41.613901: I tensorflow/stream_executor/platform/default/dso_loader.cc:49] Successfully opened dynamic library libcusparse.so.10\n",
      "2022-04-16 13:31:41.613911: I tensorflow/stream_executor/platform/default/dso_loader.cc:49] Successfully opened dynamic library libcudnn.so.7\n",
      "2022-04-16 13:31:41.613944: I tensorflow/stream_executor/cuda/cuda_gpu_executor.cc:941] successful NUMA node read from SysFS had negative value (-1), but there must be at least one NUMA node, so returning NUMA node zero\n",
      "2022-04-16 13:31:41.614028: I tensorflow/stream_executor/cuda/cuda_gpu_executor.cc:941] successful NUMA node read from SysFS had negative value (-1), but there must be at least one NUMA node, so returning NUMA node zero\n",
      "2022-04-16 13:31:41.614082: I tensorflow/core/common_runtime/gpu/gpu_device.cc:1862] Adding visible gpu devices: 0\n",
      "2022-04-16 13:31:41.614100: I tensorflow/stream_executor/platform/default/dso_loader.cc:49] Successfully opened dynamic library libcudart.so.10.1\n",
      "2022-04-16 13:31:41.956625: I tensorflow/core/common_runtime/gpu/gpu_device.cc:1261] Device interconnect StreamExecutor with strength 1 edge matrix:\n",
      "2022-04-16 13:31:41.956642: I tensorflow/core/common_runtime/gpu/gpu_device.cc:1267]      0 \n",
      "2022-04-16 13:31:41.956645: I tensorflow/core/common_runtime/gpu/gpu_device.cc:1280] 0:   N \n",
      "2022-04-16 13:31:41.956773: I tensorflow/stream_executor/cuda/cuda_gpu_executor.cc:941] successful NUMA node read from SysFS had negative value (-1), but there must be at least one NUMA node, so returning NUMA node zero\n",
      "2022-04-16 13:31:41.956920: I tensorflow/stream_executor/cuda/cuda_gpu_executor.cc:941] successful NUMA node read from SysFS had negative value (-1), but there must be at least one NUMA node, so returning NUMA node zero\n",
      "2022-04-16 13:31:41.957012: I tensorflow/stream_executor/cuda/cuda_gpu_executor.cc:941] successful NUMA node read from SysFS had negative value (-1), but there must be at least one NUMA node, so returning NUMA node zero\n",
      "2022-04-16 13:31:41.957085: I tensorflow/core/common_runtime/gpu/gpu_device.cc:1406] Created TensorFlow device (/job:localhost/replica:0/task:0/device:GPU:0 with 2048 MB memory) -> physical GPU (device: 0, name: NVIDIA GeForce RTX 2080 Ti, pci bus id: 0000:01:00.0, compute capability: 7.5)\n",
      "2022-04-16 13:31:41.957299: I tensorflow/compiler/jit/xla_gpu_device.cc:99] Not creating XLA devices, tf_xla_enable_xla_devices not set\n"
     ]
    }
   ],
   "source": [
    "# This portion limits that amount of VRAM that is allotted from the graphics car,     ,sdfdfierweasdfkjlkjwerd\n",
    "gpus = tf.config.list_physical_devices('GPU')\n",
    "\n",
    "if gpus:\n",
    "\n",
    "  # Restrict TensorFlow to only allocate 2GB of memory on the first GPU\n",
    "\n",
    "  try:\n",
    "\n",
    "    tf.config.set_logical_device_configuration(\n",
    "\n",
    "        gpus[0],\n",
    "\n",
    "        [tf.config.LogicalDeviceConfiguration(memory_limit=2048)])\n",
    "\n",
    "    logical_gpus = tf.config.list_logical_devices('GPU')\n",
    "\n",
    "    print(len(gpus), \"Physical GPUs,\", len(logical_gpus), \"Logical GPUs\")\n",
    "\n",
    "  except RuntimeError as e:\n",
    "\n",
    "    # Virtual devices must be set before GPUs have been initialized\n",
    "\n",
    "    print(e)"
   ]
  },
  {
   "cell_type": "code",
   "execution_count": 3,
   "metadata": {},
   "outputs": [
    {
     "name": "stdout",
     "output_type": "stream",
     "text": [
      "         Date      Open      High       Low     Close  Adj Close      Volume\n",
      "0  1986-03-13  0.088542  0.101563  0.088542  0.097222   0.061252  1031788800\n",
      "1  1986-03-14  0.097222  0.102431  0.097222  0.100694   0.063439   308160000\n",
      "2  1986-03-17  0.100694  0.103299  0.100694  0.102431   0.064533   133171200\n",
      "3  1986-03-18  0.102431  0.103299  0.098958  0.099826   0.062892    67766400\n",
      "4  1986-03-19  0.099826  0.100694  0.097222  0.098090   0.061799    47894400\n"
     ]
    }
   ],
   "source": [
    "# Load data here\n",
    "import pandas as pd\n",
    "import numpy as np\n",
    "\n",
    "df = pd.read_csv('MSFT.csv')\n",
    "print(df.head())"
   ]
  },
  {
   "cell_type": "code",
   "execution_count": 4,
   "metadata": {},
   "outputs": [
    {
     "data": {
      "image/png": "[encoded data removed]",
      "text/plain": [
       "<Figure size 432x288 with 1 Axes>"
      ]
     },
     "metadata": {
      "needs_background": "light"
     },
     "output_type": "display_data"
    }
   ],
   "source": [
    "import matplotlib.pyplot as plt\n",
    "import matplotlib.dates as mdates\n",
    "\n",
    "fig, ax = plt.subplots()\n",
    "\n",
    "fmt_half_year = mdates.MonthLocator(interval=48)\n",
    "ax.xaxis.set_major_locator(fmt_half_year)\n",
    "\n",
    "ax.xaxis.set_major_formatter(mdates.DateFormatter('%Y-%m'))\n",
    "\n",
    "fig.autofmt_xdate()\n",
    "\n",
    "plt.plot(df.Date, df.Close)\n",
    "plt.xlabel('Date')\n",
    "plt.ylabel('Price')\n",
    "plt.show()"
   ]
  },
  {
   "cell_type": "code",
   "execution_count": 5,
   "metadata": {},
   "outputs": [
    {
     "name": "stdout",
     "output_type": "stream",
     "text": [
      "         Close\n",
      "3490  58.28125\n",
      "3491  56.31250\n",
      "3492  56.90625\n",
      "3493  55.00000\n",
      "3494  55.71875\n",
      "          Close\n",
      "7263  46.759998\n",
      "7264  46.330002\n",
      "7265  45.650002\n",
      "7266  46.230000\n",
      "7267  47.590000\n"
     ]
    },
    {
     "name": "stderr",
     "output_type": "stream",
     "text": [
      "/tmp/ipykernel_335376/1240461979.py:6: FutureWarning: The pandas.datetime class is deprecated and will be removed from pandas in a future version. Import from datetime module instead.\n",
      "  split_date = pd.datetime(2015, 1, 1)\n",
      "/tmp/ipykernel_335376/1240461979.py:10: FutureWarning: The pandas.datetime class is deprecated and will be removed from pandas in a future version. Import from datetime module instead.\n",
      "  split_date = pd.datetime(2000, 1, 1)\n"
     ]
    }
   ],
   "source": [
    "'''\n",
    "  Drops the date column from the dataframe\n",
    "'''\n",
    "\n",
    "df['Date']= pd.to_datetime(df['Date'])\n",
    "split_date = pd.datetime(2015, 1, 1)\n",
    "training_dataframe = df.loc[df['Date'] <= split_date]\n",
    "testing_dataframe = df.loc[df['Date'] > split_date]\n",
    "\n",
    "split_date = pd.datetime(2000, 1, 1)\n",
    "training_dataframe = df.loc[df['Date'] >= split_date]\n",
    "\n",
    "training_dataframe = training_dataframe[['Close']]\n",
    "testing_dataframe = testing_dataframe[['Close']]\n",
    "print(training_dataframe.head())\n",
    "print(testing_dataframe.head())"
   ]
  },
  {
   "cell_type": "code",
   "execution_count": 14,
   "metadata": {},
   "outputs": [
    {
     "name": "stdout",
     "output_type": "stream",
     "text": [
      "[[ 58.28125 ]\n",
      " [ 56.3125  ]\n",
      " [ 56.90625 ]\n",
      " ...\n",
      " [301.369995]\n",
      " [296.970001]\n",
      " [285.26001 ]]\n",
      "(5605, 1)\n",
      "(5605, 1, 1)\n"
     ]
    }
   ],
   "source": [
    "''' \n",
    "Preparing data for LSTM\n",
    "\n",
    "The data frame above needs to be reloaded before this cell can run \n",
    "'''\n",
    "\n",
    "training_dataframe = training_dataframe.astype('float64')\n",
    "\n",
    "\n",
    "'''\n",
    "The following method assigns the close of the previous day as the opening of the next day.\n",
    "\n",
    "The create_dataset method was retrieved from: \n",
    "https://machinelearningmastery.com/time-series-prediction-lstm-recurrent-neural-networks-python-keras/\n",
    "'''\n",
    "\n",
    "def create_dataset(n_X, look_back=1):\n",
    "  data_X, data_y = [], []\n",
    "  for i in range(len(n_X) - look_back):\n",
    "    a = n_X[i:(i+look_back),0]\n",
    "    data_X.append(a)\n",
    "    data_y.append(n_X[i + look_back, 0])\n",
    "  return np.array(data_X), np.array(data_y)\n",
    "\n",
    "look_back = 1\n",
    "train_X, train_y = create_dataset(training_dataframe.values, look_back)\n",
    "test_X, test_y = create_dataset(testing_dataframe.values, look_back)\n",
    "print(train_X)\n",
    "\n",
    "print(train_X.shape)\n",
    "train_X = tf.reshape(train_X, [train_X.shape[0],1, train_X.shape[1]])\n",
    "print(train_X.shape)\n",
    "test_X = tf.reshape(test_X, [test_X.shape[0],1,test_X.shape[1]])"
   ]
  },
  {
   "cell_type": "code",
   "execution_count": 10,
   "metadata": {},
   "outputs": [
    {
     "name": "stdout",
     "output_type": "stream",
     "text": [
      "(32, 4)\n"
     ]
    }
   ],
   "source": [
    "# Creating the model and loading the model\n",
    "\n",
    "inputs = tf.random.normal([32, 10, 8])\n",
    "lstm = tf.keras.layers.LSTM(4)\n",
    "output = lstm(inputs)\n",
    "print(output.shape)\n",
    "\n",
    "model = tf.keras.models.Sequential()\n",
    "model.add(tf.keras.layers.LSTM(100, activation='tanh', return_sequences=True))\n",
    "model.add(tf.keras.layers.Dense(1))\n",
    "model.compile(optimizer='adam', loss='mse')"
   ]
  },
  {
   "cell_type": "code",
   "execution_count": 11,
   "metadata": {},
   "outputs": [
    {
     "name": "stdout",
     "output_type": "stream",
     "text": [
      "Epoch 1/100\n",
      "176/176 [==============================] - 1s 2ms/step - loss: 7923.1071\n",
      "Epoch 2/100\n",
      "176/176 [==============================] - 0s 2ms/step - loss: 6075.2949\n",
      "Epoch 3/100\n",
      "176/176 [==============================] - 0s 2ms/step - loss: 5182.6522\n",
      "Epoch 4/100\n",
      "176/176 [==============================] - 0s 2ms/step - loss: 4866.1695\n",
      "Epoch 5/100\n",
      "176/176 [==============================] - 0s 2ms/step - loss: 3969.9471\n",
      "Epoch 6/100\n",
      "176/176 [==============================] - 0s 2ms/step - loss: 3454.0679\n",
      "Epoch 7/100\n",
      "176/176 [==============================] - 0s 2ms/step - loss: 3140.8688\n",
      "Epoch 8/100\n",
      "176/176 [==============================] - 0s 2ms/step - loss: 2990.0185\n",
      "Epoch 9/100\n",
      "176/176 [==============================] - 0s 2ms/step - loss: 2518.9565\n",
      "Epoch 10/100\n",
      "176/176 [==============================] - 0s 2ms/step - loss: 2532.8451\n",
      "Epoch 11/100\n",
      "176/176 [==============================] - 0s 2ms/step - loss: 2030.2368\n",
      "Epoch 12/100\n",
      "176/176 [==============================] - 0s 2ms/step - loss: 1879.5049\n",
      "Epoch 13/100\n",
      "176/176 [==============================] - 0s 2ms/step - loss: 1605.5247\n",
      "Epoch 14/100\n",
      "176/176 [==============================] - 0s 2ms/step - loss: 1480.2215\n",
      "Epoch 15/100\n",
      "176/176 [==============================] - 0s 2ms/step - loss: 1270.2459\n",
      "Epoch 16/100\n",
      "176/176 [==============================] - 0s 2ms/step - loss: 1229.0042\n",
      "Epoch 17/100\n",
      "176/176 [==============================] - 0s 2ms/step - loss: 1090.5413\n",
      "Epoch 18/100\n",
      "176/176 [==============================] - 0s 2ms/step - loss: 909.3521\n",
      "Epoch 19/100\n",
      "176/176 [==============================] - 0s 2ms/step - loss: 886.4005\n",
      "Epoch 20/100\n",
      "176/176 [==============================] - 0s 2ms/step - loss: 692.3427\n",
      "Epoch 21/100\n",
      "176/176 [==============================] - 0s 2ms/step - loss: 681.5962\n",
      "Epoch 22/100\n",
      "176/176 [==============================] - 0s 2ms/step - loss: 543.7327\n",
      "Epoch 23/100\n",
      "176/176 [==============================] - 0s 2ms/step - loss: 527.2888\n",
      "Epoch 24/100\n",
      "176/176 [==============================] - 0s 2ms/step - loss: 431.1212\n",
      "Epoch 25/100\n",
      "176/176 [==============================] - 0s 2ms/step - loss: 344.7214\n",
      "Epoch 26/100\n",
      "176/176 [==============================] - 0s 2ms/step - loss: 340.3839\n",
      "Epoch 27/100\n",
      "176/176 [==============================] - 0s 2ms/step - loss: 301.6055\n",
      "Epoch 28/100\n",
      "176/176 [==============================] - 0s 2ms/step - loss: 251.3652\n",
      "Epoch 29/100\n",
      "176/176 [==============================] - 0s 2ms/step - loss: 229.2945\n",
      "Epoch 30/100\n",
      "176/176 [==============================] - 0s 2ms/step - loss: 209.2817\n",
      "Epoch 31/100\n",
      "176/176 [==============================] - 0s 2ms/step - loss: 194.4586\n",
      "Epoch 32/100\n",
      "176/176 [==============================] - 0s 2ms/step - loss: 151.9909\n",
      "Epoch 33/100\n",
      "176/176 [==============================] - 0s 2ms/step - loss: 153.3964\n",
      "Epoch 34/100\n",
      "176/176 [==============================] - 0s 2ms/step - loss: 143.3744\n",
      "Epoch 35/100\n",
      "176/176 [==============================] - 0s 2ms/step - loss: 124.0525\n",
      "Epoch 36/100\n",
      "176/176 [==============================] - 0s 2ms/step - loss: 110.3954\n",
      "Epoch 37/100\n",
      "176/176 [==============================] - 0s 2ms/step - loss: 88.5495\n",
      "Epoch 38/100\n",
      "176/176 [==============================] - 0s 2ms/step - loss: 79.5083\n",
      "Epoch 39/100\n",
      "176/176 [==============================] - 0s 2ms/step - loss: 76.9745\n",
      "Epoch 40/100\n",
      "176/176 [==============================] - 0s 2ms/step - loss: 65.6059\n",
      "Epoch 41/100\n",
      "176/176 [==============================] - 0s 2ms/step - loss: 55.6962\n",
      "Epoch 42/100\n",
      "176/176 [==============================] - 0s 2ms/step - loss: 49.6102\n",
      "Epoch 43/100\n",
      "176/176 [==============================] - 0s 2ms/step - loss: 41.7715\n",
      "Epoch 44/100\n",
      "176/176 [==============================] - 0s 2ms/step - loss: 37.3321\n",
      "Epoch 45/100\n",
      "176/176 [==============================] - 0s 2ms/step - loss: 29.4096\n",
      "Epoch 46/100\n",
      "176/176 [==============================] - 0s 2ms/step - loss: 33.3156\n",
      "Epoch 47/100\n",
      "176/176 [==============================] - 0s 2ms/step - loss: 30.4773\n",
      "Epoch 48/100\n",
      "176/176 [==============================] - 0s 2ms/step - loss: 24.0588\n",
      "Epoch 49/100\n",
      "176/176 [==============================] - 0s 2ms/step - loss: 22.9962\n",
      "Epoch 50/100\n",
      "176/176 [==============================] - 0s 2ms/step - loss: 20.2079\n",
      "Epoch 51/100\n",
      "176/176 [==============================] - 0s 2ms/step - loss: 17.3490\n",
      "Epoch 52/100\n",
      "176/176 [==============================] - 0s 2ms/step - loss: 14.1206\n",
      "Epoch 53/100\n",
      "176/176 [==============================] - 0s 2ms/step - loss: 16.6139\n",
      "Epoch 54/100\n",
      "176/176 [==============================] - 0s 2ms/step - loss: 12.9156\n",
      "Epoch 55/100\n",
      "176/176 [==============================] - 0s 2ms/step - loss: 13.8651\n",
      "Epoch 56/100\n",
      "176/176 [==============================] - 0s 2ms/step - loss: 12.1661\n",
      "Epoch 57/100\n",
      "176/176 [==============================] - 0s 2ms/step - loss: 10.0519\n",
      "Epoch 58/100\n",
      "176/176 [==============================] - 0s 2ms/step - loss: 9.2739\n",
      "Epoch 59/100\n",
      "176/176 [==============================] - 0s 2ms/step - loss: 12.1897\n",
      "Epoch 60/100\n",
      "176/176 [==============================] - 0s 2ms/step - loss: 10.9029\n",
      "Epoch 61/100\n",
      "176/176 [==============================] - 0s 2ms/step - loss: 9.5089\n",
      "Epoch 62/100\n",
      "176/176 [==============================] - 0s 2ms/step - loss: 13.0893\n",
      "Epoch 63/100\n",
      "176/176 [==============================] - 0s 2ms/step - loss: 11.8952\n",
      "Epoch 64/100\n",
      "176/176 [==============================] - 0s 2ms/step - loss: 11.0468\n",
      "Epoch 65/100\n",
      "176/176 [==============================] - 0s 2ms/step - loss: 6.6485\n",
      "Epoch 66/100\n",
      "176/176 [==============================] - 0s 2ms/step - loss: 6.4895\n",
      "Epoch 67/100\n",
      "176/176 [==============================] - 0s 2ms/step - loss: 9.7799\n",
      "Epoch 68/100\n",
      "176/176 [==============================] - 0s 2ms/step - loss: 7.2727\n",
      "Epoch 69/100\n",
      "176/176 [==============================] - 0s 2ms/step - loss: 7.4425\n",
      "Epoch 70/100\n",
      "176/176 [==============================] - 0s 2ms/step - loss: 7.7856\n",
      "Epoch 71/100\n",
      "176/176 [==============================] - 0s 2ms/step - loss: 7.5849\n",
      "Epoch 72/100\n",
      "176/176 [==============================] - 0s 2ms/step - loss: 18.9415\n",
      "Epoch 73/100\n",
      "176/176 [==============================] - 0s 2ms/step - loss: 9.5836\n",
      "Epoch 74/100\n",
      "176/176 [==============================] - 0s 2ms/step - loss: 8.8187\n",
      "Epoch 75/100\n",
      "176/176 [==============================] - 0s 2ms/step - loss: 6.9526\n",
      "Epoch 76/100\n",
      "176/176 [==============================] - 0s 2ms/step - loss: 6.2772\n",
      "Epoch 77/100\n",
      "176/176 [==============================] - 0s 2ms/step - loss: 6.1584\n",
      "Epoch 78/100\n",
      "176/176 [==============================] - 0s 2ms/step - loss: 7.8676\n",
      "Epoch 79/100\n",
      "176/176 [==============================] - 0s 2ms/step - loss: 5.7173\n",
      "Epoch 80/100\n",
      "176/176 [==============================] - 0s 2ms/step - loss: 4.5761\n",
      "Epoch 81/100\n",
      "176/176 [==============================] - 0s 2ms/step - loss: 5.4607\n",
      "Epoch 82/100\n",
      "176/176 [==============================] - 0s 2ms/step - loss: 7.2273\n",
      "Epoch 83/100\n",
      "176/176 [==============================] - 0s 2ms/step - loss: 5.8080\n",
      "Epoch 84/100\n",
      "176/176 [==============================] - 0s 2ms/step - loss: 7.7615\n",
      "Epoch 85/100\n",
      "176/176 [==============================] - 0s 2ms/step - loss: 5.1043\n",
      "Epoch 86/100\n",
      "176/176 [==============================] - 0s 2ms/step - loss: 6.4762\n",
      "Epoch 87/100\n",
      "176/176 [==============================] - 0s 2ms/step - loss: 7.8325\n",
      "Epoch 88/100\n",
      "176/176 [==============================] - 0s 2ms/step - loss: 7.8983\n",
      "Epoch 89/100\n",
      "176/176 [==============================] - 0s 2ms/step - loss: 4.9740\n",
      "Epoch 90/100\n",
      "176/176 [==============================] - 0s 2ms/step - loss: 5.3567\n",
      "Epoch 91/100\n",
      "176/176 [==============================] - 0s 2ms/step - loss: 5.6735\n",
      "Epoch 92/100\n",
      "176/176 [==============================] - 0s 2ms/step - loss: 9.3668\n",
      "Epoch 93/100\n",
      "176/176 [==============================] - 0s 2ms/step - loss: 6.4130\n",
      "Epoch 94/100\n",
      "176/176 [==============================] - 0s 2ms/step - loss: 5.9850\n",
      "Epoch 95/100\n",
      "176/176 [==============================] - 0s 2ms/step - loss: 6.9207\n",
      "Epoch 96/100\n",
      "176/176 [==============================] - 0s 2ms/step - loss: 6.1754\n",
      "Epoch 97/100\n",
      "176/176 [==============================] - 0s 2ms/step - loss: 4.9519\n",
      "Epoch 98/100\n",
      "176/176 [==============================] - 0s 2ms/step - loss: 5.9305\n",
      "Epoch 99/100\n",
      "176/176 [==============================] - 0s 2ms/step - loss: 5.7573\n",
      "Epoch 100/100\n",
      "176/176 [==============================] - 0s 2ms/step - loss: 8.4948\n"
     ]
    },
    {
     "data": {
      "text/plain": [
       "<tensorflow.python.keras.callbacks.History at 0x7fb62c1fa190>"
      ]
     },
     "execution_count": 11,
     "metadata": {},
     "output_type": "execute_result"
    }
   ],
   "source": [
    "# Fitting the model\n",
    "\n",
    "model.fit(train_X, train_y, epochs=100)\n"
   ]
  },
  {
   "cell_type": "markdown",
   "metadata": {},
   "source": [
    "If we include too much data, the model will be overfitted not be able to predict current day prices well!\n",
    "\n",
    "Just from the graphs, it looks as though the model we made is generally optimistic regarding the prices."
   ]
  },
  {
   "cell_type": "code",
   "execution_count": 12,
   "metadata": {},
   "outputs": [
    {
     "name": "stdout",
     "output_type": "stream",
     "text": [
      "tf.Tensor([ 47.078674  46.636986  45.93891  ... 304.9552   301.19635  290.44186 ], shape=(1832,), dtype=float32)\n",
      "[ 46.759998  46.330002  45.650002 ... 301.369995 296.970001 285.26001 ]\n"
     ]
    },
    {
     "data": {
      "text/plain": [
       "[]"
      ]
     },
     "execution_count": 12,
     "metadata": {},
     "output_type": "execute_result"
    },
    {
     "data": {
      "image/png": "[encoded data removed]",
      "text/plain": [
       "<Figure size 432x288 with 1 Axes>"
      ]
     },
     "metadata": {
      "needs_background": "light"
     },
     "output_type": "display_data"
    }
   ],
   "source": [
    "testing_predictions = model.predict(test_X)\n",
    "testing_predictions = tf.reshape(testing_predictions, [1, 1, len(testing_predictions)])\n",
    "true_vals = testing_dataframe[['Close']].values.flatten()\n",
    "true_vals = np.delete(true_vals, len(true_vals)-1)\n",
    "print(testing_predictions[0][0])\n",
    "print(true_vals)\n",
    "plt.plot(testing_predictions[0][0], label=\"Predictions\")\n",
    "plt.plot(true_vals, label=\"True Prices\")\n",
    "plt.ylabel('Prices')\n",
    "plt.xlabel('Days from 01/01/2015')\n",
    "plt.legend(loc='upper center')\n",
    "plt.plot()"
   ]
  },
  {
   "cell_type": "markdown",
   "metadata": {},
   "source": [
    "In this example, after increasing the number of neurons from 50 to 100 had decreased the RMSE values from 40.89 to 13.405 which is a remarkable improvement!"
   ]
  },
  {
   "cell_type": "code",
   "execution_count": 13,
   "metadata": {},
   "outputs": [
    {
     "data": {
      "text/plain": [
       "13.406340665411976"
      ]
     },
     "execution_count": 13,
     "metadata": {},
     "output_type": "execute_result"
    }
   ],
   "source": [
    "from sklearn.metrics import mean_squared_error\n",
    "\n",
    "mean_squared_error(true_vals, testing_predictions[0][0])"
   ]
  },
  {
   "cell_type": "code",
   "execution_count": 16,
   "metadata": {},
   "outputs": [
    {
     "data": {
      "text/html": [
       "<div>\n",
       "<style scoped>\n",
       "    .dataframe tbody tr th:only-of-type {\n",
       "        vertical-align: middle;\n",
       "    }\n",
       "\n",
       "    .dataframe tbody tr th {\n",
       "        vertical-align: top;\n",
       "    }\n",
       "\n",
       "    .dataframe thead th {\n",
       "        text-align: right;\n",
       "    }\n",
       "</style>\n",
       "<table border=\"1\" class=\"dataframe\">\n",
       "  <thead>\n",
       "    <tr style=\"text-align: right;\">\n",
       "      <th></th>\n",
       "      <th>Prediction</th>\n",
       "      <th>True Scores</th>\n",
       "    </tr>\n",
       "  </thead>\n",
       "  <tbody>\n",
       "    <tr>\n",
       "      <th>0</th>\n",
       "      <td>47.078674</td>\n",
       "      <td>46.759998</td>\n",
       "    </tr>\n",
       "    <tr>\n",
       "      <th>1</th>\n",
       "      <td>46.636986</td>\n",
       "      <td>46.330002</td>\n",
       "    </tr>\n",
       "    <tr>\n",
       "      <th>2</th>\n",
       "      <td>45.938911</td>\n",
       "      <td>45.650002</td>\n",
       "    </tr>\n",
       "    <tr>\n",
       "      <th>3</th>\n",
       "      <td>46.534294</td>\n",
       "      <td>46.230000</td>\n",
       "    </tr>\n",
       "    <tr>\n",
       "      <th>4</th>\n",
       "      <td>47.931778</td>\n",
       "      <td>47.590000</td>\n",
       "    </tr>\n",
       "  </tbody>\n",
       "</table>\n",
       "</div>"
      ],
      "text/plain": [
       "   Prediction  True Scores\n",
       "0   47.078674    46.759998\n",
       "1   46.636986    46.330002\n",
       "2   45.938911    45.650002\n",
       "3   46.534294    46.230000\n",
       "4   47.931778    47.590000"
      ]
     },
     "execution_count": 16,
     "metadata": {},
     "output_type": "execute_result"
    }
   ],
   "source": [
    "resulting_dataframe = pd.DataFrame({\n",
    "  'Prediction': testing_predictions[0][0],\n",
    "  'True Scores': true_vals\n",
    "})\n",
    "\n",
    "resulting_dataframe.head()\n",
    "resulting_dataframe.to_csv('LSTM_Resulting_Data.csv')"
   ]
  },
  {
   "cell_type": "code",
   "execution_count": 197,
   "metadata": {},
   "outputs": [
    {
     "data": {
      "image/png": "[encoded data removed]",
      "text/plain": [
       "<Figure size 432x288 with 1 Axes>"
      ]
     },
     "metadata": {
      "needs_background": "light"
     },
     "output_type": "display_data"
    }
   ],
   "source": [
    "aapl_dataframe = pd.read_csv('AAPL.csv')\n",
    "\n",
    "fig, ax = plt.subplots()\n",
    "\n",
    "fmt_half_year = mdates.MonthLocator(interval=48)\n",
    "ax.xaxis.set_major_locator(fmt_half_year)\n",
    "\n",
    "ax.xaxis.set_major_formatter(mdates.DateFormatter('%Y-%m'))\n",
    "\n",
    "fig.autofmt_xdate()\n",
    "\n",
    "plt.plot(aapl_dataframe.Date, aapl_dataframe.Close)\n",
    "plt.xlabel('Date')\n",
    "plt.ylabel('Price')\n",
    "plt.show()"
   ]
  },
  {
   "cell_type": "code",
   "execution_count": 170,
   "metadata": {},
   "outputs": [
    {
     "name": "stdout",
     "output_type": "stream",
     "text": [
      "['1980-12-12' '1980-12-15' '1980-12-16' ... '2022-04-08' '2022-04-11'\n",
      " '2022-04-12']\n"
     ]
    }
   ],
   "source": [
    "aapl_date = aapl_dataframe.Date\n",
    "print(aapl_date.values)"
   ]
  },
  {
   "cell_type": "code",
   "execution_count": 171,
   "metadata": {},
   "outputs": [],
   "source": [
    "aapl_dataframe = aapl_dataframe.drop(['Date'], axis=1)"
   ]
  },
  {
   "cell_type": "code",
   "execution_count": 172,
   "metadata": {},
   "outputs": [
    {
     "name": "stdout",
     "output_type": "stream",
     "text": [
      "(9095, 1, 1)\n",
      "tf.Tensor(\n",
      "[[[8.85420000e-02]]\n",
      "\n",
      " [[9.72220000e-02]]\n",
      "\n",
      " [[1.00694000e-01]]\n",
      "\n",
      " ...\n",
      "\n",
      " [[2.96660004e+02]]\n",
      "\n",
      " [[3.00440002e+02]]\n",
      "\n",
      " [[2.91790009e+02]]], shape=(9095, 1, 1), dtype=float64)\n",
      "[1.22210000e-01 1.13281000e-01 1.15513000e-01 ... 1.71779999e+02\n",
      " 1.68710007e+02 1.68020004e+02]\n"
     ]
    }
   ],
   "source": [
    "\n",
    "aapl_dataframe = aapl_dataframe.astype('float64')\n",
    "\n",
    "aapl_dataset = aapl_dataframe[['Open', 'Close']]\n",
    "\n",
    "aapl_train_x, aapl_train_y = create_dataset(aapl_dataset.values, look_back)\n",
    "\n",
    "aapl_train_X = tf.reshape(train_X, [len(train_X),1, 1])\n",
    "print(aapl_train_X.shape)\n",
    "print(aapl_train_X)\n",
    "print(aapl_train_y)"
   ]
  },
  {
   "cell_type": "code",
   "execution_count": 173,
   "metadata": {},
   "outputs": [
    {
     "name": "stdout",
     "output_type": "stream",
     "text": [
      "[ 0.27659225  0.2815113   0.28348732 ... 83.22425    83.22425\n",
      " 83.22425   ]\n"
     ]
    },
    {
     "data": {
      "image/png": "[encoded data removed]",
      "text/plain": [
       "<Figure size 432x288 with 1 Axes>"
      ]
     },
     "metadata": {
      "needs_background": "light"
     },
     "output_type": "display_data"
    }
   ],
   "source": [
    "aapl_predict = model.predict(aapl_train_X)\n",
    "aapl_predict = np.array(tf.reshape(aapl_predict, [1, 1,len(aapl_predict)]))\n",
    "print(aapl_predict[0][0])\n",
    "\n",
    "\n",
    "plt.plot(aapl_predict[0][0])\n",
    "plt.plot(aapl_dataset['Close'].values)\n",
    "plt.show()"
   ]
  }
 ],
 "metadata": {
  "interpreter": {
   "hash": "7978af0a4b67bc6935640db490136eb6b4789de4a1d83aa959b928abde7e220a"
  },
  "kernelspec": {
   "display_name": "Python 3.9.12 ('tf-gpu')",
   "language": "python",
   "name": "python3"
  },
  "language_info": {
   "codemirror_mode": {
    "name": "ipython",
    "version": 3
   },
   "file_extension": ".py",
   "mimetype": "text/x-python",
   "name": "python",
   "nbconvert_exporter": "python",
   "pygments_lexer": "ipython3",
   "version": "3.9.12"
  },
  "orig_nbformat": 4
 },
 "nbformat": 4,
 "nbformat_minor": 2
}
