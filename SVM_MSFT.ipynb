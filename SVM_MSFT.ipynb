{
 "cells": [
  {
   "cell_type": "code",
   "execution_count": 58,
   "metadata": {
    "collapsed": true
   },
   "outputs": [],
   "source": [
    "import pandas as pd\n",
    "import sklearn.svm\n",
    "\n",
    "import tensorflow as tf\n",
    "\n",
    "from sklearn.preprocessing import StandardScaler\n",
    "\n",
    "from sklearn.svm import SVR"
   ]
  },
  {
   "cell_type": "markdown",
   "metadata": {
    "collapsed": false,
    "pycharm": {
     "name": "#%% md\n"
    }
   },
   "source": [
    "STONKS ONLY GO UP\n",
    "\n",
    "1. APPL\n",
    "2. MSFT\n",
    "3. TXN\n",
    "4. SONY\n",
    "5. GOOG\n",
    "6. TSLA\n",
    "7. KO\n",
    "8. CMG\n",
    "9. NVDA\n",
    "10. AMD\n",
    "\n",
    "Maybe??\n",
    "1. FB\n",
    "2. INTC\n",
    "\n",
    "Stable\n",
    "\n",
    "1. VOO\n",
    "2. NASDAQ 100\n"
   ]
  },
  {
   "cell_type": "code",
   "execution_count": 59,
   "metadata": {
    "collapsed": false,
    "pycharm": {
     "name": "#%%\n"
    }
   },
   "outputs": [],
   "source": [
    "gpus = tf.config.list_physical_devices('GPU')\n",
    "\n",
    "if gpus:\n",
    "\n",
    "  # Restrict TensorFlow to only allocate 1GB of memory on the first GPU\n",
    "\n",
    "  try:\n",
    "\n",
    "    tf.config.set_logical_device_configuration(\n",
    "\n",
    "        gpus[0],\n",
    "\n",
    "        [tf.config.LogicalDeviceConfiguration(memory_limit=2048)])\n",
    "\n",
    "    logical_gpus = tf.config.list_logical_devices('GPU')\n",
    "\n",
    "    print(len(gpus), \"Physical GPUs,\", len(logical_gpus), \"Logical GPUs\")\n",
    "\n",
    "  except RuntimeError as e:\n",
    "\n",
    "    # Virtual devices must be set before GPUs have been initialized\n",
    "\n",
    "    print(e)"
   ]
  },
  {
   "cell_type": "code",
   "execution_count": 60,
   "metadata": {
    "collapsed": false,
    "pycharm": {
     "name": "#%%\n"
    }
   },
   "outputs": [
    {
     "name": "stdout",
     "output_type": "stream",
     "text": [
      "0       1986-03-13\n",
      "1       1986-03-14\n",
      "2       1986-03-17\n",
      "3       1986-03-18\n",
      "4       1986-03-19\n",
      "           ...    \n",
      "9091    2022-04-06\n",
      "9092    2022-04-07\n",
      "9093    2022-04-08\n",
      "9094    2022-04-11\n",
      "9095    2022-04-12\n",
      "Name: Date, Length: 9096, dtype: object\n"
     ]
    }
   ],
   "source": [
    "#load data\n",
    "import pandas as pd\n",
    "import numpy as np\n",
    "\n",
    "df = pd.read_csv('MSFT.csv')\n",
    "dataset = df.values\n",
    "print(df.Date)"
   ]
  },
  {
   "cell_type": "code",
   "execution_count": 61,
   "metadata": {
    "collapsed": false,
    "pycharm": {
     "name": "#%%\n"
    }
   },
   "outputs": [
    {
     "data": {
      "image/png": "[encoded data removed]",
      "text/plain": [
       "<Figure size 432x288 with 1 Axes>"
      ]
     },
     "metadata": {
      "needs_background": "light"
     },
     "output_type": "display_data"
    }
   ],
   "source": [
    "import matplotlib.pyplot as plt\n",
    "import matplotlib.dates as mdates\n",
    "\n",
    "fig, ax = plt.subplots()\n",
    "\n",
    "fmt_half_year = mdates.MonthLocator(interval=48)\n",
    "ax.xaxis.set_major_locator(fmt_half_year)\n",
    "ax.xaxis.set_major_formatter(mdates.DateFormatter('%Y-%m'))\n",
    "\n",
    "plt.plot(df.Date, df.Close)\n",
    "plt.xlabel('Date')\n",
    "plt.ylabel('Price')\n",
    "plt.show()"
   ]
  },
  {
   "cell_type": "code",
   "execution_count": 62,
   "metadata": {
    "collapsed": false,
    "pycharm": {
     "name": "#%%\n"
    }
   },
   "outputs": [
    {
     "name": "stdout",
     "output_type": "stream",
     "text": [
      "9096\n",
      "[8.85420000e-02 9.72220000e-02 1.00694000e-01 ... 3.00440002e+02\n",
      " 2.91790009e+02 2.89239990e+02]\n"
     ]
    }
   ],
   "source": [
    "dataset = df.drop(['Date'], axis=1)\n",
    "feature_columns = ['Open']\n",
    "train_X = df.loc[:,feature_columns]\n",
    "train_y = df.Close\n",
    "\n",
    "dataset = dataset.astype('float64')\n",
    "def create_dataset(n_X, look_back):\n",
    "    data_X, data_y = [],[]\n",
    "    for i in range(len(n_X) - look_back):\n",
    "        a = n_X[i:(i+look_back),]\n",
    "        data_X.append(a)\n",
    "        data_y.append(n_X[i + look_back, ])\n",
    "\n",
    "train_X = train_X.values\n",
    "print(len(train_X))\n",
    "reshaped_train_x = train_X.reshape(1, 9096, 1)\n",
    "train_y = train_y.values\n",
    "print(train_X.flatten())\n"
   ]
  },
  {
   "cell_type": "code",
   "execution_count": 47,
   "metadata": {
    "collapsed": false,
    "pycharm": {
     "name": "#%%\n"
    }
   },
   "outputs": [],
   "source": [
    "from sklearn.svm import SVR\n",
    "\n",
    "\n",
    "model = SVR(kernel='rbf')"
   ]
  },
  {
   "cell_type": "code",
   "execution_count": 48,
   "metadata": {
    "collapsed": false,
    "pycharm": {
     "name": "#%%\n"
    }
   },
   "outputs": [
    {
     "name": "stdout",
     "output_type": "stream",
     "text": [
      "          Open     Close    Volume\n",
      "3490  58.68750  58.28125  53228400\n",
      "3491  56.78125  56.31250  54119000\n",
      "3492  55.56250  56.90625  64059600\n",
      "3493  56.09375  55.00000  54976600\n",
      "3494  54.31250  55.71875  62013600\n",
      "           Open      Close    Volume\n",
      "7263  46.660000  46.759998  27913900\n",
      "7264  46.369999  46.330002  39673900\n",
      "7265  46.380001  45.650002  36447900\n",
      "7266  45.980000  46.230000  29114100\n",
      "7267  46.750000  47.590000  29645200\n"
     ]
    },
    {
     "name": "stderr",
     "output_type": "stream",
     "text": [
      "/tmp/ipykernel_356448/176491310.py:10: FutureWarning: The pandas.datetime class is deprecated and will be removed from pandas in a future version. Import from datetime module instead.\n",
      "  split_date = pd.datetime(2015, 1, 1)\n",
      "/tmp/ipykernel_356448/176491310.py:14: FutureWarning: The pandas.datetime class is deprecated and will be removed from pandas in a future version. Import from datetime module instead.\n",
      "  split_date = pd.datetime(2000, 1, 1)\n"
     ]
    }
   ],
   "source": [
    "'''\n",
    "  Drops the date column from the dataframe\n",
    "'''\n",
    "import pandas as pd\n",
    "import matplotlib.pyplot as plt\n",
    "\n",
    "df = pd.read_csv('MSFT.csv')\n",
    "\n",
    "df['Date']= pd.to_datetime(df['Date'])\n",
    "split_date = pd.datetime(2015, 1, 1)\n",
    "training_dataframe = df.loc[df['Date'] <= split_date]\n",
    "testing_dataframe = df.loc[df['Date'] > split_date]\n",
    "\n",
    "split_date = pd.datetime(2000, 1, 1)\n",
    "training_dataframe = df.loc[df['Date'] >= split_date]\n",
    "\n",
    "training_dataframe = training_dataframe[['Open', 'Close', 'Volume']]\n",
    "testing_dataframe = testing_dataframe[['Open', 'Close', 'Volume']]\n",
    "print(training_dataframe.head())\n",
    "print(testing_dataframe.head())"
   ]
  },
  {
   "cell_type": "code",
   "execution_count": 49,
   "metadata": {
    "collapsed": false,
    "pycharm": {
     "name": "#%%\n"
    }
   },
   "outputs": [
    {
     "name": "stdout",
     "output_type": "stream",
     "text": [
      "[[5.86875000e+01 5.82812500e+01 5.32284000e+07]\n",
      " [5.67812500e+01 5.63125000e+01 5.41190000e+07]\n",
      " [5.55625000e+01 5.69062500e+01 6.40596000e+07]\n",
      " ...\n",
      " [3.00440002e+02 2.96970001e+02 2.43474000e+07]\n",
      " [2.91790009e+02 2.85260010e+02 3.45693000e+07]\n",
      " [2.89239990e+02 2.82059998e+02 3.09667000e+07]]\n"
     ]
    },
    {
     "name": "stderr",
     "output_type": "stream",
     "text": [
      "/home/wthunder/anaconda3/envs/tf_gpu2/lib/python3.9/site-packages/sklearn/utils/validation.py:993: DataConversionWarning: A column-vector y was passed when a 1d array was expected. Please change the shape of y to (n_samples, ), for example using ravel().\n",
      "  y = column_or_1d(y, warn=True)\n"
     ]
    },
    {
     "data": {
      "text/plain": [
       "SVR(kernel='poly')"
      ]
     },
     "execution_count": 49,
     "metadata": {},
     "output_type": "execute_result"
    }
   ],
   "source": [
    "print(training_dataframe.values)\n",
    "train_X = training_dataframe[['Open']].values\n",
    "train_y = training_dataframe[['Close']].values\n",
    "test_X = testing_dataframe[['Open']].values\n",
    "test_y = testing_dataframe[['Close']].values\n",
    "model.fit(train_X, train_y)"
   ]
  },
  {
   "cell_type": "code",
   "execution_count": 50,
   "metadata": {
    "collapsed": false,
    "pycharm": {
     "name": "#%%\n"
    }
   },
   "outputs": [
    {
     "data": {
      "text/plain": [
       "<matplotlib.legend.Legend at 0x7fe824099c40>"
      ]
     },
     "execution_count": 50,
     "metadata": {},
     "output_type": "execute_result"
    },
    {
     "data": {
      "image/png": "[encoded data removed]",
      "text/plain": [
       "<Figure size 432x288 with 1 Axes>"
      ]
     },
     "metadata": {
      "needs_background": "light"
     },
     "output_type": "display_data"
    }
   ],
   "source": [
    "prediction = model.predict(test_X)\n",
    "plt.plot(testing_dataframe[['Close']].values.flatten(), label=\"closing price\")\n",
    "plt.plot(prediction, label=\"Predicted\")\n",
    "plt.ylabel(\"Price\")\n",
    "plt.xlabel(\"Days from 01/01/2000\")\n",
    "plt.legend()"
   ]
  },
  {
   "cell_type": "code",
   "execution_count": 51,
   "metadata": {
    "collapsed": false,
    "pycharm": {
     "name": "#%%\n"
    }
   },
   "outputs": [
    {
     "name": "stdout",
     "output_type": "stream",
     "text": [
      "This is the mse for SVC:3080.8058160744595\n"
     ]
    }
   ],
   "source": [
    "from sklearn.metrics import mean_squared_error\n",
    "\n",
    "score = mean_squared_error(test_y.flatten(), prediction)\n",
    "print(\"This is the mse for SVC:\" + str(score))"
   ]
  }
 ],
 "metadata": {
  "kernelspec": {
   "display_name": "Python 3",
   "language": "python",
   "name": "python3"
  },
  "language_info": {
   "codemirror_mode": {
    "name": "ipython",
    "version": 3
   },
   "file_extension": ".py",
   "mimetype": "text/x-python",
   "name": "python",
   "nbconvert_exporter": "python",
   "pygments_lexer": "ipython3",
   "version": "3.9.12"
  }
 },
 "nbformat": 4,
 "nbformat_minor": 0
}
