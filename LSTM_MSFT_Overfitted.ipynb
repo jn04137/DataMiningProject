{
 "cells": [
  {
   "cell_type": "code",
   "execution_count": 1,
   "metadata": {},
   "outputs": [
    {
     "name": "stderr",
     "output_type": "stream",
     "text": [
      "2022-04-16 13:11:49.321699: I tensorflow/stream_executor/platform/default/dso_loader.cc:49] Successfully opened dynamic library libcudart.so.10.1\n"
     ]
    }
   ],
   "source": [
    "import pandas as pd\n",
    "\n",
    "import tensorflow as tf\n",
    "\n",
    "from sklearn.preprocessing import StandardScaler"
   ]
  },
  {
   "cell_type": "markdown",
   "metadata": {},
   "source": [
    "STONKS ONLY GO UP\n",
    "\n",
    "1. Apple (AAPL)\n",
    "2. Microsoft (MSFT)\n",
    "3. Texas Instruments (TXN)\n",
    "4. Sony (SONY)\n",
    "5. Google (GOOG)\n",
    "6. Tesla (TSLA)\n",
    "7. Coke (KO)\n",
    "8. Chipotle (CMG)\n",
    "9. NVIDIA (NVDA)\n",
    "10. AMD (AMD)\n",
    "\n",
    "Maybes\n",
    "1. Facebook (FB)\n",
    "2. Intel (INTC)\n",
    "\n",
    "Stable Stocks\n",
    "1. S&P 500 (VOO or SPY)\n",
    "2. NASDAQ 100\n"
   ]
  },
  {
   "cell_type": "code",
   "execution_count": 2,
   "metadata": {},
   "outputs": [
    {
     "name": "stdout",
     "output_type": "stream",
     "text": [
      "1 Physical GPUs, 1 Logical GPUs\n"
     ]
    },
    {
     "name": "stderr",
     "output_type": "stream",
     "text": [
      "2022-04-16 13:11:50.196550: I tensorflow/compiler/jit/xla_cpu_device.cc:41] Not creating XLA devices, tf_xla_enable_xla_devices not set\n",
      "2022-04-16 13:11:50.197141: I tensorflow/stream_executor/platform/default/dso_loader.cc:49] Successfully opened dynamic library libcuda.so.1\n",
      "2022-04-16 13:11:50.217112: I tensorflow/stream_executor/cuda/cuda_gpu_executor.cc:941] successful NUMA node read from SysFS had negative value (-1), but there must be at least one NUMA node, so returning NUMA node zero\n",
      "2022-04-16 13:11:50.217193: I tensorflow/core/common_runtime/gpu/gpu_device.cc:1720] Found device 0 with properties: \n",
      "pciBusID: 0000:01:00.0 name: NVIDIA GeForce RTX 2080 Ti computeCapability: 7.5\n",
      "coreClock: 1.65GHz coreCount: 68 deviceMemorySize: 10.76GiB deviceMemoryBandwidth: 573.69GiB/s\n",
      "2022-04-16 13:11:50.217207: I tensorflow/stream_executor/platform/default/dso_loader.cc:49] Successfully opened dynamic library libcudart.so.10.1\n",
      "2022-04-16 13:11:50.218185: I tensorflow/stream_executor/platform/default/dso_loader.cc:49] Successfully opened dynamic library libcublas.so.10\n",
      "2022-04-16 13:11:50.218211: I tensorflow/stream_executor/platform/default/dso_loader.cc:49] Successfully opened dynamic library libcublasLt.so.10\n",
      "2022-04-16 13:11:50.219085: I tensorflow/stream_executor/platform/default/dso_loader.cc:49] Successfully opened dynamic library libcufft.so.10\n",
      "2022-04-16 13:11:50.219236: I tensorflow/stream_executor/platform/default/dso_loader.cc:49] Successfully opened dynamic library libcurand.so.10\n",
      "2022-04-16 13:11:50.220187: I tensorflow/stream_executor/platform/default/dso_loader.cc:49] Successfully opened dynamic library libcusolver.so.10\n",
      "2022-04-16 13:11:50.220713: I tensorflow/stream_executor/platform/default/dso_loader.cc:49] Successfully opened dynamic library libcusparse.so.10\n",
      "2022-04-16 13:11:50.222893: I tensorflow/stream_executor/platform/default/dso_loader.cc:49] Successfully opened dynamic library libcudnn.so.7\n",
      "2022-04-16 13:11:50.222999: I tensorflow/stream_executor/cuda/cuda_gpu_executor.cc:941] successful NUMA node read from SysFS had negative value (-1), but there must be at least one NUMA node, so returning NUMA node zero\n",
      "2022-04-16 13:11:50.223177: I tensorflow/stream_executor/cuda/cuda_gpu_executor.cc:941] successful NUMA node read from SysFS had negative value (-1), but there must be at least one NUMA node, so returning NUMA node zero\n",
      "2022-04-16 13:11:50.223303: I tensorflow/core/common_runtime/gpu/gpu_device.cc:1862] Adding visible gpu devices: 0\n",
      "2022-04-16 13:11:50.223771: I tensorflow/core/platform/cpu_feature_guard.cc:142] This TensorFlow binary is optimized with oneAPI Deep Neural Network Library (oneDNN) to use the following CPU instructions in performance-critical operations:  SSE4.1 SSE4.2 AVX AVX2 FMA\n",
      "To enable them in other operations, rebuild TensorFlow with the appropriate compiler flags.\n",
      "2022-04-16 13:11:50.224483: I tensorflow/stream_executor/cuda/cuda_gpu_executor.cc:941] successful NUMA node read from SysFS had negative value (-1), but there must be at least one NUMA node, so returning NUMA node zero\n",
      "2022-04-16 13:11:50.224559: I tensorflow/core/common_runtime/gpu/gpu_device.cc:1720] Found device 0 with properties: \n",
      "pciBusID: 0000:01:00.0 name: NVIDIA GeForce RTX 2080 Ti computeCapability: 7.5\n",
      "coreClock: 1.65GHz coreCount: 68 deviceMemorySize: 10.76GiB deviceMemoryBandwidth: 573.69GiB/s\n",
      "2022-04-16 13:11:50.224580: I tensorflow/stream_executor/platform/default/dso_loader.cc:49] Successfully opened dynamic library libcudart.so.10.1\n",
      "2022-04-16 13:11:50.224595: I tensorflow/stream_executor/platform/default/dso_loader.cc:49] Successfully opened dynamic library libcublas.so.10\n",
      "2022-04-16 13:11:50.224606: I tensorflow/stream_executor/platform/default/dso_loader.cc:49] Successfully opened dynamic library libcublasLt.so.10\n",
      "2022-04-16 13:11:50.224616: I tensorflow/stream_executor/platform/default/dso_loader.cc:49] Successfully opened dynamic library libcufft.so.10\n",
      "2022-04-16 13:11:50.224625: I tensorflow/stream_executor/platform/default/dso_loader.cc:49] Successfully opened dynamic library libcurand.so.10\n",
      "2022-04-16 13:11:50.224635: I tensorflow/stream_executor/platform/default/dso_loader.cc:49] Successfully opened dynamic library libcusolver.so.10\n",
      "2022-04-16 13:11:50.224645: I tensorflow/stream_executor/platform/default/dso_loader.cc:49] Successfully opened dynamic library libcusparse.so.10\n",
      "2022-04-16 13:11:50.224654: I tensorflow/stream_executor/platform/default/dso_loader.cc:49] Successfully opened dynamic library libcudnn.so.7\n",
      "2022-04-16 13:11:50.224689: I tensorflow/stream_executor/cuda/cuda_gpu_executor.cc:941] successful NUMA node read from SysFS had negative value (-1), but there must be at least one NUMA node, so returning NUMA node zero\n",
      "2022-04-16 13:11:50.224772: I tensorflow/stream_executor/cuda/cuda_gpu_executor.cc:941] successful NUMA node read from SysFS had negative value (-1), but there must be at least one NUMA node, so returning NUMA node zero\n",
      "2022-04-16 13:11:50.224836: I tensorflow/core/common_runtime/gpu/gpu_device.cc:1862] Adding visible gpu devices: 0\n",
      "2022-04-16 13:11:50.224855: I tensorflow/stream_executor/platform/default/dso_loader.cc:49] Successfully opened dynamic library libcudart.so.10.1\n",
      "2022-04-16 13:11:50.557411: I tensorflow/core/common_runtime/gpu/gpu_device.cc:1261] Device interconnect StreamExecutor with strength 1 edge matrix:\n",
      "2022-04-16 13:11:50.557426: I tensorflow/core/common_runtime/gpu/gpu_device.cc:1267]      0 \n",
      "2022-04-16 13:11:50.557429: I tensorflow/core/common_runtime/gpu/gpu_device.cc:1280] 0:   N \n",
      "2022-04-16 13:11:50.557531: I tensorflow/stream_executor/cuda/cuda_gpu_executor.cc:941] successful NUMA node read from SysFS had negative value (-1), but there must be at least one NUMA node, so returning NUMA node zero\n",
      "2022-04-16 13:11:50.557652: I tensorflow/stream_executor/cuda/cuda_gpu_executor.cc:941] successful NUMA node read from SysFS had negative value (-1), but there must be at least one NUMA node, so returning NUMA node zero\n",
      "2022-04-16 13:11:50.557740: I tensorflow/stream_executor/cuda/cuda_gpu_executor.cc:941] successful NUMA node read from SysFS had negative value (-1), but there must be at least one NUMA node, so returning NUMA node zero\n",
      "2022-04-16 13:11:50.557814: I tensorflow/core/common_runtime/gpu/gpu_device.cc:1406] Created TensorFlow device (/job:localhost/replica:0/task:0/device:GPU:0 with 2048 MB memory) -> physical GPU (device: 0, name: NVIDIA GeForce RTX 2080 Ti, pci bus id: 0000:01:00.0, compute capability: 7.5)\n",
      "2022-04-16 13:11:50.558009: I tensorflow/compiler/jit/xla_gpu_device.cc:99] Not creating XLA devices, tf_xla_enable_xla_devices not set\n"
     ]
    }
   ],
   "source": [
    "# This portion limits that amount of VRAM that is allotted from the graphics car,     ,sdfdfierweasdfkjlkjwerd\n",
    "gpus = tf.config.list_physical_devices('GPU')\n",
    "\n",
    "if gpus:\n",
    "\n",
    "  # Restrict TensorFlow to only allocate 2GB of memory on the first GPU\n",
    "\n",
    "  try:\n",
    "\n",
    "    tf.config.set_logical_device_configuration(\n",
    "\n",
    "        gpus[0],\n",
    "\n",
    "        [tf.config.LogicalDeviceConfiguration(memory_limit=2048)])\n",
    "\n",
    "    logical_gpus = tf.config.list_logical_devices('GPU')\n",
    "\n",
    "    print(len(gpus), \"Physical GPUs,\", len(logical_gpus), \"Logical GPUs\")\n",
    "\n",
    "  except RuntimeError as e:\n",
    "\n",
    "    # Virtual devices must be set before GPUs have been initialized\n",
    "\n",
    "    print(e)"
   ]
  },
  {
   "cell_type": "code",
   "execution_count": 3,
   "metadata": {},
   "outputs": [
    {
     "name": "stdout",
     "output_type": "stream",
     "text": [
      "         Date      Open      High       Low     Close  Adj Close      Volume\n",
      "0  1986-03-13  0.088542  0.101563  0.088542  0.097222   0.061252  1031788800\n",
      "1  1986-03-14  0.097222  0.102431  0.097222  0.100694   0.063439   308160000\n",
      "2  1986-03-17  0.100694  0.103299  0.100694  0.102431   0.064533   133171200\n",
      "3  1986-03-18  0.102431  0.103299  0.098958  0.099826   0.062892    67766400\n",
      "4  1986-03-19  0.099826  0.100694  0.097222  0.098090   0.061799    47894400\n"
     ]
    }
   ],
   "source": [
    "# Load data here\n",
    "import pandas as pd\n",
    "import numpy as np\n",
    "\n",
    "df = pd.read_csv('MSFT.csv')\n",
    "print(df.head())"
   ]
  },
  {
   "cell_type": "code",
   "execution_count": 4,
   "metadata": {},
   "outputs": [
    {
     "data": {
      "image/png": "[encoded data removed]",
      "text/plain": [
       "<Figure size 432x288 with 1 Axes>"
      ]
     },
     "metadata": {
      "needs_background": "light"
     },
     "output_type": "display_data"
    }
   ],
   "source": [
    "import matplotlib.pyplot as plt\n",
    "import matplotlib.dates as mdates\n",
    "\n",
    "fig, ax = plt.subplots()\n",
    "\n",
    "fmt_half_year = mdates.MonthLocator(interval=48)\n",
    "ax.xaxis.set_major_locator(fmt_half_year)\n",
    "\n",
    "ax.xaxis.set_major_formatter(mdates.DateFormatter('%Y-%m'))\n",
    "\n",
    "fig.autofmt_xdate()\n",
    "\n",
    "plt.plot(df.Date, df.Close)\n",
    "plt.xlabel('Date')\n",
    "plt.ylabel('Price')\n",
    "plt.show()"
   ]
  },
  {
   "cell_type": "code",
   "execution_count": 5,
   "metadata": {},
   "outputs": [
    {
     "name": "stdout",
     "output_type": "stream",
     "text": [
      "      Close\n",
      "0  0.097222\n",
      "1  0.100694\n",
      "2  0.102431\n",
      "3  0.099826\n",
      "4  0.098090\n",
      "          Close\n",
      "7263  46.759998\n",
      "7264  46.330002\n",
      "7265  45.650002\n",
      "7266  46.230000\n",
      "7267  47.590000\n"
     ]
    },
    {
     "name": "stderr",
     "output_type": "stream",
     "text": [
      "/tmp/ipykernel_332904/3149830778.py:6: FutureWarning: The pandas.datetime class is deprecated and will be removed from pandas in a future version. Import from datetime module instead.\n",
      "  split_date = pd.datetime(2015, 1, 1)\n"
     ]
    }
   ],
   "source": [
    "'''\n",
    "  Drops the date column from the dataframe\n",
    "'''\n",
    "\n",
    "df['Date']= pd.to_datetime(df['Date'])\n",
    "split_date = pd.datetime(2015, 1, 1)\n",
    "training_dataframe = df.loc[df['Date'] <= split_date]\n",
    "testing_dataframe = df.loc[df['Date'] > split_date]\n",
    "\n",
    "training_dataframe = training_dataframe[['Close']]\n",
    "testing_dataframe = testing_dataframe[['Close']]\n",
    "print(training_dataframe.head())\n",
    "print(testing_dataframe.head())"
   ]
  },
  {
   "cell_type": "code",
   "execution_count": 6,
   "metadata": {},
   "outputs": [
    {
     "ename": "NameError",
     "evalue": "name 'new_df' is not defined",
     "output_type": "error",
     "traceback": [
      "\u001b[0;31m---------------------------------------------------------------------------\u001b[0m",
      "\u001b[0;31mNameError\u001b[0m                                 Traceback (most recent call last)",
      "\u001b[1;32m/home/wthunder/projects/DataMiningProject/LSTM_MSFT_Overfitted.ipynb Cell 7'\u001b[0m in \u001b[0;36m<cell line: 10>\u001b[0;34m()\u001b[0m\n\u001b[1;32m      <a href='vscode-notebook-cell:/home/wthunder/projects/DataMiningProject/LSTM_MSFT_Overfitted.ipynb#ch0000006?line=0'>1</a>\u001b[0m \u001b[39m''' \u001b[39;00m\n\u001b[1;32m      <a href='vscode-notebook-cell:/home/wthunder/projects/DataMiningProject/LSTM_MSFT_Overfitted.ipynb#ch0000006?line=1'>2</a>\u001b[0m \u001b[39mPreparing data for LSTM\u001b[39;00m\n\u001b[1;32m      <a href='vscode-notebook-cell:/home/wthunder/projects/DataMiningProject/LSTM_MSFT_Overfitted.ipynb#ch0000006?line=2'>3</a>\u001b[0m \n\u001b[1;32m      <a href='vscode-notebook-cell:/home/wthunder/projects/DataMiningProject/LSTM_MSFT_Overfitted.ipynb#ch0000006?line=3'>4</a>\u001b[0m \u001b[39mThe data frame above needs to be reloaded before this cell can run \u001b[39;00m\n\u001b[1;32m      <a href='vscode-notebook-cell:/home/wthunder/projects/DataMiningProject/LSTM_MSFT_Overfitted.ipynb#ch0000006?line=4'>5</a>\u001b[0m \u001b[39m'''\u001b[39;00m\n\u001b[1;32m      <a href='vscode-notebook-cell:/home/wthunder/projects/DataMiningProject/LSTM_MSFT_Overfitted.ipynb#ch0000006?line=6'>7</a>\u001b[0m training_dataframe \u001b[39m=\u001b[39m training_dataframe\u001b[39m.\u001b[39mastype(\u001b[39m'\u001b[39m\u001b[39mfloat64\u001b[39m\u001b[39m'\u001b[39m)\n\u001b[0;32m---> <a href='vscode-notebook-cell:/home/wthunder/projects/DataMiningProject/LSTM_MSFT_Overfitted.ipynb#ch0000006?line=9'>10</a>\u001b[0m \u001b[39mprint\u001b[39m(new_df\u001b[39m.\u001b[39mvalues)\n\u001b[1;32m     <a href='vscode-notebook-cell:/home/wthunder/projects/DataMiningProject/LSTM_MSFT_Overfitted.ipynb#ch0000006?line=11'>12</a>\u001b[0m \u001b[39m'''\u001b[39;00m\n\u001b[1;32m     <a href='vscode-notebook-cell:/home/wthunder/projects/DataMiningProject/LSTM_MSFT_Overfitted.ipynb#ch0000006?line=12'>13</a>\u001b[0m \u001b[39mThe following method assigns the close of the previous day as the opening of the next day.\u001b[39;00m\n\u001b[1;32m     <a href='vscode-notebook-cell:/home/wthunder/projects/DataMiningProject/LSTM_MSFT_Overfitted.ipynb#ch0000006?line=13'>14</a>\u001b[0m \n\u001b[1;32m     <a href='vscode-notebook-cell:/home/wthunder/projects/DataMiningProject/LSTM_MSFT_Overfitted.ipynb#ch0000006?line=14'>15</a>\u001b[0m \u001b[39mThe create_dataset method was retrieved from: \u001b[39;00m\n\u001b[1;32m     <a href='vscode-notebook-cell:/home/wthunder/projects/DataMiningProject/LSTM_MSFT_Overfitted.ipynb#ch0000006?line=15'>16</a>\u001b[0m \u001b[39mhttps://machinelearningmastery.com/time-series-prediction-lstm-recurrent-neural-networks-python-keras/\u001b[39;00m\n\u001b[1;32m     <a href='vscode-notebook-cell:/home/wthunder/projects/DataMiningProject/LSTM_MSFT_Overfitted.ipynb#ch0000006?line=16'>17</a>\u001b[0m \u001b[39m'''\u001b[39;00m\n\u001b[1;32m     <a href='vscode-notebook-cell:/home/wthunder/projects/DataMiningProject/LSTM_MSFT_Overfitted.ipynb#ch0000006?line=18'>19</a>\u001b[0m \u001b[39mdef\u001b[39;00m \u001b[39mcreate_dataset\u001b[39m(n_X, look_back\u001b[39m=\u001b[39m\u001b[39m1\u001b[39m):\n",
      "\u001b[0;31mNameError\u001b[0m: name 'new_df' is not defined"
     ]
    }
   ],
   "source": [
    "''' \n",
    "Preparing data for LSTM\n",
    "\n",
    "The data frame above needs to be reloaded before this cell can run \n",
    "'''\n",
    "\n",
    "training_dataframe = training_dataframe.astype('float64')\n",
    "\n",
    "\n",
    "'''\n",
    "The following method assigns the close of the previous day as the opening of the next day.\n",
    "\n",
    "The create_dataset method was retrieved from: \n",
    "https://machinelearningmastery.com/time-series-prediction-lstm-recurrent-neural-networks-python-keras/\n",
    "'''\n",
    "\n",
    "def create_dataset(n_X, look_back=1):\n",
    "  data_X, data_y = [], []\n",
    "  for i in range(len(n_X) - look_back):\n",
    "    a = n_X[i:(i+look_back),0]\n",
    "    data_X.append(a)\n",
    "    data_y.append(n_X[i + look_back, 0])\n",
    "  return np.array(data_X), np.array(data_y)\n",
    "\n",
    "look_back = 1\n",
    "train_X, train_y = create_dataset(training_dataframe.values, look_back)\n",
    "test_X, test_y = create_dataset(testing_dataframe.values, look_back)\n",
    "print(train_X)\n",
    "\n",
    "print(train_X.shape)\n",
    "train_X = tf.reshape(train_X, [train_X.shape[0],1, train_X.shape[1]])\n",
    "test_X = tf.reshape(test_X, [test_X.shape[0],1,test_X.shape[1]])"
   ]
  },
  {
   "cell_type": "code",
   "execution_count": 252,
   "metadata": {},
   "outputs": [
    {
     "name": "stdout",
     "output_type": "stream",
     "text": [
      "(32, 4)\n"
     ]
    }
   ],
   "source": [
    "# Creating the model and loading the model\n",
    "\n",
    "inputs = tf.random.normal([32, 10, 8])\n",
    "lstm = tf.keras.layers.LSTM(4)\n",
    "output = lstm(inputs)\n",
    "print(output.shape)\n",
    "\n",
    "model = tf.keras.models.Sequential()\n",
    "model.add(tf.keras.layers.LSTM(40, activation='tanh', return_sequences=True))\n",
    "model.add(tf.keras.layers.Dense(1))\n",
    "model.compile(optimizer='adam', loss='mse')"
   ]
  },
  {
   "cell_type": "code",
   "execution_count": 253,
   "metadata": {},
   "outputs": [
    {
     "name": "stdout",
     "output_type": "stream",
     "text": [
      "Epoch 1/100\n",
      "176/176 [==============================] - 1s 2ms/step - loss: 8232.0053\n",
      "Epoch 2/100\n",
      "176/176 [==============================] - 0s 2ms/step - loss: 7213.0552\n",
      "Epoch 3/100\n",
      "176/176 [==============================] - 0s 2ms/step - loss: 6711.8409\n",
      "Epoch 4/100\n",
      "176/176 [==============================] - 0s 2ms/step - loss: 6191.3716\n",
      "Epoch 5/100\n",
      "176/176 [==============================] - 0s 2ms/step - loss: 5896.4976\n",
      "Epoch 6/100\n",
      "176/176 [==============================] - 0s 2ms/step - loss: 4969.7486\n",
      "Epoch 7/100\n",
      "176/176 [==============================] - 0s 2ms/step - loss: 5188.5925\n",
      "Epoch 8/100\n",
      "176/176 [==============================] - 0s 2ms/step - loss: 4509.1009\n",
      "Epoch 9/100\n",
      "176/176 [==============================] - 0s 2ms/step - loss: 4653.2071\n",
      "Epoch 10/100\n",
      "176/176 [==============================] - 0s 2ms/step - loss: 4447.5902\n",
      "Epoch 11/100\n",
      "176/176 [==============================] - 0s 2ms/step - loss: 4353.9703\n",
      "Epoch 12/100\n",
      "176/176 [==============================] - 0s 2ms/step - loss: 4017.9028\n",
      "Epoch 13/100\n",
      "176/176 [==============================] - 0s 2ms/step - loss: 3824.6483\n",
      "Epoch 14/100\n",
      "176/176 [==============================] - 0s 2ms/step - loss: 3373.0492\n",
      "Epoch 15/100\n",
      "176/176 [==============================] - 0s 2ms/step - loss: 3460.4082\n",
      "Epoch 16/100\n",
      "176/176 [==============================] - 0s 2ms/step - loss: 3554.7716\n",
      "Epoch 17/100\n",
      "176/176 [==============================] - 0s 2ms/step - loss: 3255.6471\n",
      "Epoch 18/100\n",
      "176/176 [==============================] - 0s 2ms/step - loss: 2723.2249\n",
      "Epoch 19/100\n",
      "176/176 [==============================] - 0s 2ms/step - loss: 2884.0241\n",
      "Epoch 20/100\n",
      "176/176 [==============================] - 0s 2ms/step - loss: 2630.4180\n",
      "Epoch 21/100\n",
      "176/176 [==============================] - 0s 2ms/step - loss: 2585.2654\n",
      "Epoch 22/100\n",
      "176/176 [==============================] - 0s 2ms/step - loss: 2392.8134\n",
      "Epoch 23/100\n",
      "176/176 [==============================] - 0s 2ms/step - loss: 2326.6934\n",
      "Epoch 24/100\n",
      "176/176 [==============================] - 0s 2ms/step - loss: 2239.8386\n",
      "Epoch 25/100\n",
      "176/176 [==============================] - 0s 2ms/step - loss: 2130.7536\n",
      "Epoch 26/100\n",
      "176/176 [==============================] - 0s 2ms/step - loss: 2089.4493\n",
      "Epoch 27/100\n",
      "176/176 [==============================] - 0s 2ms/step - loss: 1858.2249\n",
      "Epoch 28/100\n",
      "176/176 [==============================] - 0s 2ms/step - loss: 1923.6071\n",
      "Epoch 29/100\n",
      "176/176 [==============================] - 0s 2ms/step - loss: 1642.9830\n",
      "Epoch 30/100\n",
      "176/176 [==============================] - 0s 2ms/step - loss: 1668.1625\n",
      "Epoch 31/100\n",
      "176/176 [==============================] - 0s 2ms/step - loss: 1440.3547\n",
      "Epoch 32/100\n",
      "176/176 [==============================] - 0s 2ms/step - loss: 1328.7187\n",
      "Epoch 33/100\n",
      "176/176 [==============================] - 0s 2ms/step - loss: 1263.0838\n",
      "Epoch 34/100\n",
      "176/176 [==============================] - 0s 2ms/step - loss: 1303.7590\n",
      "Epoch 35/100\n",
      "176/176 [==============================] - 0s 2ms/step - loss: 1208.5703\n",
      "Epoch 36/100\n",
      "176/176 [==============================] - 0s 2ms/step - loss: 1115.4801\n",
      "Epoch 37/100\n",
      "176/176 [==============================] - 0s 2ms/step - loss: 1007.0517\n",
      "Epoch 38/100\n",
      "176/176 [==============================] - 0s 2ms/step - loss: 950.9010\n",
      "Epoch 39/100\n",
      "176/176 [==============================] - 0s 2ms/step - loss: 954.3640\n",
      "Epoch 40/100\n",
      "176/176 [==============================] - 0s 2ms/step - loss: 873.7745\n",
      "Epoch 41/100\n",
      "176/176 [==============================] - 0s 2ms/step - loss: 701.7063\n",
      "Epoch 42/100\n",
      "176/176 [==============================] - 0s 2ms/step - loss: 756.0295\n",
      "Epoch 43/100\n",
      "176/176 [==============================] - 0s 2ms/step - loss: 629.5852\n",
      "Epoch 44/100\n",
      "176/176 [==============================] - 0s 2ms/step - loss: 670.8052\n",
      "Epoch 45/100\n",
      "176/176 [==============================] - 0s 2ms/step - loss: 685.8112\n",
      "Epoch 46/100\n",
      "176/176 [==============================] - 0s 2ms/step - loss: 601.1391\n",
      "Epoch 47/100\n",
      "176/176 [==============================] - 0s 2ms/step - loss: 572.3258\n",
      "Epoch 48/100\n",
      "176/176 [==============================] - 0s 2ms/step - loss: 538.7332\n",
      "Epoch 49/100\n",
      "176/176 [==============================] - 0s 2ms/step - loss: 472.9180\n",
      "Epoch 50/100\n",
      "176/176 [==============================] - 0s 2ms/step - loss: 403.8245\n",
      "Epoch 51/100\n",
      "176/176 [==============================] - 0s 2ms/step - loss: 435.5432\n",
      "Epoch 52/100\n",
      "176/176 [==============================] - 0s 2ms/step - loss: 377.3983\n",
      "Epoch 53/100\n",
      "176/176 [==============================] - 0s 2ms/step - loss: 351.0037\n",
      "Epoch 54/100\n",
      "176/176 [==============================] - 0s 2ms/step - loss: 309.3343\n",
      "Epoch 55/100\n",
      "176/176 [==============================] - 0s 2ms/step - loss: 345.2142\n",
      "Epoch 56/100\n",
      "176/176 [==============================] - 0s 2ms/step - loss: 297.5646\n",
      "Epoch 57/100\n",
      "176/176 [==============================] - 0s 2ms/step - loss: 256.2307\n",
      "Epoch 58/100\n",
      "176/176 [==============================] - 0s 2ms/step - loss: 262.0902\n",
      "Epoch 59/100\n",
      "176/176 [==============================] - 0s 2ms/step - loss: 217.5663\n",
      "Epoch 60/100\n",
      "176/176 [==============================] - 0s 2ms/step - loss: 243.3846\n",
      "Epoch 61/100\n",
      "176/176 [==============================] - 0s 2ms/step - loss: 206.9996\n",
      "Epoch 62/100\n",
      "176/176 [==============================] - 0s 2ms/step - loss: 200.2937\n",
      "Epoch 63/100\n",
      "176/176 [==============================] - 0s 2ms/step - loss: 167.7606\n",
      "Epoch 64/100\n",
      "176/176 [==============================] - 0s 2ms/step - loss: 143.1180\n",
      "Epoch 65/100\n",
      "176/176 [==============================] - 0s 2ms/step - loss: 145.9817\n",
      "Epoch 66/100\n",
      "176/176 [==============================] - 0s 2ms/step - loss: 144.9102\n",
      "Epoch 67/100\n",
      "176/176 [==============================] - 0s 2ms/step - loss: 125.0641\n",
      "Epoch 68/100\n",
      "176/176 [==============================] - 0s 2ms/step - loss: 127.4858\n",
      "Epoch 69/100\n",
      "176/176 [==============================] - 0s 2ms/step - loss: 95.3083\n",
      "Epoch 70/100\n",
      "176/176 [==============================] - 0s 2ms/step - loss: 89.5876\n",
      "Epoch 71/100\n",
      "176/176 [==============================] - 0s 2ms/step - loss: 95.3442\n",
      "Epoch 72/100\n",
      "176/176 [==============================] - 0s 2ms/step - loss: 84.6484\n",
      "Epoch 73/100\n",
      "176/176 [==============================] - 0s 2ms/step - loss: 70.9377\n",
      "Epoch 74/100\n",
      "176/176 [==============================] - 0s 2ms/step - loss: 65.5907\n",
      "Epoch 75/100\n",
      "176/176 [==============================] - 0s 2ms/step - loss: 65.5781\n",
      "Epoch 76/100\n",
      "176/176 [==============================] - 0s 2ms/step - loss: 57.2954\n",
      "Epoch 77/100\n",
      "176/176 [==============================] - 0s 2ms/step - loss: 58.1433\n",
      "Epoch 78/100\n",
      "176/176 [==============================] - 0s 2ms/step - loss: 48.5427\n",
      "Epoch 79/100\n",
      "176/176 [==============================] - 0s 2ms/step - loss: 48.0994\n",
      "Epoch 80/100\n",
      "176/176 [==============================] - 0s 2ms/step - loss: 52.3218\n",
      "Epoch 81/100\n",
      "176/176 [==============================] - 0s 2ms/step - loss: 32.6363\n",
      "Epoch 82/100\n",
      "176/176 [==============================] - 0s 2ms/step - loss: 40.5737\n",
      "Epoch 83/100\n",
      "176/176 [==============================] - 0s 2ms/step - loss: 38.9544\n",
      "Epoch 84/100\n",
      "176/176 [==============================] - 0s 2ms/step - loss: 31.7533\n",
      "Epoch 85/100\n",
      "176/176 [==============================] - 0s 2ms/step - loss: 30.7401\n",
      "Epoch 86/100\n",
      "176/176 [==============================] - 0s 2ms/step - loss: 24.0941\n",
      "Epoch 87/100\n",
      "176/176 [==============================] - 0s 2ms/step - loss: 23.6780\n",
      "Epoch 88/100\n",
      "176/176 [==============================] - 0s 2ms/step - loss: 21.7544\n",
      "Epoch 89/100\n",
      "176/176 [==============================] - 0s 2ms/step - loss: 18.5193\n",
      "Epoch 90/100\n",
      "176/176 [==============================] - 0s 2ms/step - loss: 18.7364\n",
      "Epoch 91/100\n",
      "176/176 [==============================] - 0s 2ms/step - loss: 22.1278\n",
      "Epoch 92/100\n",
      "176/176 [==============================] - 0s 2ms/step - loss: 15.1980\n",
      "Epoch 93/100\n",
      "176/176 [==============================] - 0s 2ms/step - loss: 17.5428\n",
      "Epoch 94/100\n",
      "176/176 [==============================] - 0s 2ms/step - loss: 17.3567\n",
      "Epoch 95/100\n",
      "176/176 [==============================] - 0s 2ms/step - loss: 12.1560\n",
      "Epoch 96/100\n",
      "176/176 [==============================] - 0s 2ms/step - loss: 12.4147\n",
      "Epoch 97/100\n",
      "176/176 [==============================] - 0s 2ms/step - loss: 13.5666\n",
      "Epoch 98/100\n",
      "176/176 [==============================] - 0s 2ms/step - loss: 12.5620\n",
      "Epoch 99/100\n",
      "176/176 [==============================] - 0s 2ms/step - loss: 12.9911\n",
      "Epoch 100/100\n",
      "176/176 [==============================] - 0s 2ms/step - loss: 13.4243\n"
     ]
    },
    {
     "data": {
      "text/plain": [
       "<tensorflow.python.keras.callbacks.History at 0x7f947c9205e0>"
      ]
     },
     "execution_count": 253,
     "metadata": {},
     "output_type": "execute_result"
    }
   ],
   "source": [
    "# Fitting the model\n",
    "\n",
    "model.fit(train_X, train_y, epochs=100)\n"
   ]
  },
  {
   "cell_type": "markdown",
   "metadata": {},
   "source": [
    "If we include too much data, the model will be overfitted not be able to predict current day prices well!\n",
    "\n",
    "Just from the graphs, it looks as though the model we made is generally optimistic regarding the prices."
   ]
  },
  {
   "cell_type": "code",
   "execution_count": 262,
   "metadata": {},
   "outputs": [
    {
     "data": {
      "text/plain": [
       "[]"
      ]
     },
     "execution_count": 262,
     "metadata": {},
     "output_type": "execute_result"
    },
    {
     "data": {
      "image/png": "[encoded data removed]",
      "text/plain": [
       "<Figure size 432x288 with 1 Axes>"
      ]
     },
     "metadata": {
      "needs_background": "light"
     },
     "output_type": "display_data"
    }
   ],
   "source": [
    "testing_predictions = model.predict(test_X)\n",
    "testing_predictions = tf.reshape(testing_predictions, [1, 1, len(testing_predictions)])\n",
    "true_vals = testing_dataframe[['Close']].values.flatten()\n",
    "plt.plot(testing_predictions[0][0], label=\"Predictions\")\n",
    "plt.plot(true_vals, label=\"True Prices\")\n",
    "plt.ylabel('Prices')\n",
    "plt.xlabel('Days from 01/01/2015')\n",
    "plt.legend(loc='upper center')\n",
    "plt.plot()"
   ]
  },
  {
   "cell_type": "code",
   "execution_count": 260,
   "metadata": {},
   "outputs": [
    {
     "ename": "ValueError",
     "evalue": "Found input variables with inconsistent numbers of samples: [1833, 1832]",
     "output_type": "error",
     "traceback": [
      "\u001b[0;31m---------------------------------------------------------------------------\u001b[0m",
      "\u001b[0;31mValueError\u001b[0m                                Traceback (most recent call last)",
      "\u001b[1;32m/home/wthunder/projects/DataMiningProject/LSTM_MSFT.ipynb Cell 12'\u001b[0m in \u001b[0;36m<cell line: 3>\u001b[0;34m()\u001b[0m\n\u001b[1;32m      <a href='vscode-notebook-cell:/home/wthunder/projects/DataMiningProject/LSTM_MSFT.ipynb#ch0000017?line=0'>1</a>\u001b[0m \u001b[39mfrom\u001b[39;00m \u001b[39msklearn\u001b[39;00m\u001b[39m.\u001b[39;00m\u001b[39mmetrics\u001b[39;00m \u001b[39mimport\u001b[39;00m mean_squared_error\n\u001b[0;32m----> <a href='vscode-notebook-cell:/home/wthunder/projects/DataMiningProject/LSTM_MSFT.ipynb#ch0000017?line=2'>3</a>\u001b[0m mean_squared_error(true_vals, testing_predictions[\u001b[39m0\u001b[39;49m][\u001b[39m0\u001b[39;49m])\n",
      "File \u001b[0;32m~/anaconda3/envs/tf_gpu2/lib/python3.9/site-packages/sklearn/metrics/_regression.py:438\u001b[0m, in \u001b[0;36mmean_squared_error\u001b[0;34m(y_true, y_pred, sample_weight, multioutput, squared)\u001b[0m\n\u001b[1;32m    <a href='file:///home/wthunder/anaconda3/envs/tf_gpu2/lib/python3.9/site-packages/sklearn/metrics/_regression.py?line=377'>378</a>\u001b[0m \u001b[39mdef\u001b[39;00m \u001b[39mmean_squared_error\u001b[39m(\n\u001b[1;32m    <a href='file:///home/wthunder/anaconda3/envs/tf_gpu2/lib/python3.9/site-packages/sklearn/metrics/_regression.py?line=378'>379</a>\u001b[0m     y_true, y_pred, \u001b[39m*\u001b[39m, sample_weight\u001b[39m=\u001b[39m\u001b[39mNone\u001b[39;00m, multioutput\u001b[39m=\u001b[39m\u001b[39m\"\u001b[39m\u001b[39muniform_average\u001b[39m\u001b[39m\"\u001b[39m, squared\u001b[39m=\u001b[39m\u001b[39mTrue\u001b[39;00m\n\u001b[1;32m    <a href='file:///home/wthunder/anaconda3/envs/tf_gpu2/lib/python3.9/site-packages/sklearn/metrics/_regression.py?line=379'>380</a>\u001b[0m ):\n\u001b[1;32m    <a href='file:///home/wthunder/anaconda3/envs/tf_gpu2/lib/python3.9/site-packages/sklearn/metrics/_regression.py?line=380'>381</a>\u001b[0m     \u001b[39m\"\"\"Mean squared error regression loss.\u001b[39;00m\n\u001b[1;32m    <a href='file:///home/wthunder/anaconda3/envs/tf_gpu2/lib/python3.9/site-packages/sklearn/metrics/_regression.py?line=381'>382</a>\u001b[0m \n\u001b[1;32m    <a href='file:///home/wthunder/anaconda3/envs/tf_gpu2/lib/python3.9/site-packages/sklearn/metrics/_regression.py?line=382'>383</a>\u001b[0m \u001b[39m    Read more in the :ref:`User Guide <mean_squared_error>`.\u001b[39;00m\n\u001b[0;32m   (...)\u001b[0m\n\u001b[1;32m    <a href='file:///home/wthunder/anaconda3/envs/tf_gpu2/lib/python3.9/site-packages/sklearn/metrics/_regression.py?line=435'>436</a>\u001b[0m \u001b[39m    0.825...\u001b[39;00m\n\u001b[1;32m    <a href='file:///home/wthunder/anaconda3/envs/tf_gpu2/lib/python3.9/site-packages/sklearn/metrics/_regression.py?line=436'>437</a>\u001b[0m \u001b[39m    \"\"\"\u001b[39;00m\n\u001b[0;32m--> <a href='file:///home/wthunder/anaconda3/envs/tf_gpu2/lib/python3.9/site-packages/sklearn/metrics/_regression.py?line=437'>438</a>\u001b[0m     y_type, y_true, y_pred, multioutput \u001b[39m=\u001b[39m _check_reg_targets(\n\u001b[1;32m    <a href='file:///home/wthunder/anaconda3/envs/tf_gpu2/lib/python3.9/site-packages/sklearn/metrics/_regression.py?line=438'>439</a>\u001b[0m         y_true, y_pred, multioutput\n\u001b[1;32m    <a href='file:///home/wthunder/anaconda3/envs/tf_gpu2/lib/python3.9/site-packages/sklearn/metrics/_regression.py?line=439'>440</a>\u001b[0m     )\n\u001b[1;32m    <a href='file:///home/wthunder/anaconda3/envs/tf_gpu2/lib/python3.9/site-packages/sklearn/metrics/_regression.py?line=440'>441</a>\u001b[0m     check_consistent_length(y_true, y_pred, sample_weight)\n\u001b[1;32m    <a href='file:///home/wthunder/anaconda3/envs/tf_gpu2/lib/python3.9/site-packages/sklearn/metrics/_regression.py?line=441'>442</a>\u001b[0m     output_errors \u001b[39m=\u001b[39m np\u001b[39m.\u001b[39maverage((y_true \u001b[39m-\u001b[39m y_pred) \u001b[39m*\u001b[39m\u001b[39m*\u001b[39m \u001b[39m2\u001b[39m, axis\u001b[39m=\u001b[39m\u001b[39m0\u001b[39m, weights\u001b[39m=\u001b[39msample_weight)\n",
      "File \u001b[0;32m~/anaconda3/envs/tf_gpu2/lib/python3.9/site-packages/sklearn/metrics/_regression.py:94\u001b[0m, in \u001b[0;36m_check_reg_targets\u001b[0;34m(y_true, y_pred, multioutput, dtype)\u001b[0m\n\u001b[1;32m     <a href='file:///home/wthunder/anaconda3/envs/tf_gpu2/lib/python3.9/site-packages/sklearn/metrics/_regression.py?line=59'>60</a>\u001b[0m \u001b[39mdef\u001b[39;00m \u001b[39m_check_reg_targets\u001b[39m(y_true, y_pred, multioutput, dtype\u001b[39m=\u001b[39m\u001b[39m\"\u001b[39m\u001b[39mnumeric\u001b[39m\u001b[39m\"\u001b[39m):\n\u001b[1;32m     <a href='file:///home/wthunder/anaconda3/envs/tf_gpu2/lib/python3.9/site-packages/sklearn/metrics/_regression.py?line=60'>61</a>\u001b[0m     \u001b[39m\"\"\"Check that y_true and y_pred belong to the same regression task.\u001b[39;00m\n\u001b[1;32m     <a href='file:///home/wthunder/anaconda3/envs/tf_gpu2/lib/python3.9/site-packages/sklearn/metrics/_regression.py?line=61'>62</a>\u001b[0m \n\u001b[1;32m     <a href='file:///home/wthunder/anaconda3/envs/tf_gpu2/lib/python3.9/site-packages/sklearn/metrics/_regression.py?line=62'>63</a>\u001b[0m \u001b[39m    Parameters\u001b[39;00m\n\u001b[0;32m   (...)\u001b[0m\n\u001b[1;32m     <a href='file:///home/wthunder/anaconda3/envs/tf_gpu2/lib/python3.9/site-packages/sklearn/metrics/_regression.py?line=91'>92</a>\u001b[0m \u001b[39m        the dtype argument passed to check_array.\u001b[39;00m\n\u001b[1;32m     <a href='file:///home/wthunder/anaconda3/envs/tf_gpu2/lib/python3.9/site-packages/sklearn/metrics/_regression.py?line=92'>93</a>\u001b[0m \u001b[39m    \"\"\"\u001b[39;00m\n\u001b[0;32m---> <a href='file:///home/wthunder/anaconda3/envs/tf_gpu2/lib/python3.9/site-packages/sklearn/metrics/_regression.py?line=93'>94</a>\u001b[0m     check_consistent_length(y_true, y_pred)\n\u001b[1;32m     <a href='file:///home/wthunder/anaconda3/envs/tf_gpu2/lib/python3.9/site-packages/sklearn/metrics/_regression.py?line=94'>95</a>\u001b[0m     y_true \u001b[39m=\u001b[39m check_array(y_true, ensure_2d\u001b[39m=\u001b[39m\u001b[39mFalse\u001b[39;00m, dtype\u001b[39m=\u001b[39mdtype)\n\u001b[1;32m     <a href='file:///home/wthunder/anaconda3/envs/tf_gpu2/lib/python3.9/site-packages/sklearn/metrics/_regression.py?line=95'>96</a>\u001b[0m     y_pred \u001b[39m=\u001b[39m check_array(y_pred, ensure_2d\u001b[39m=\u001b[39m\u001b[39mFalse\u001b[39;00m, dtype\u001b[39m=\u001b[39mdtype)\n",
      "File \u001b[0;32m~/anaconda3/envs/tf_gpu2/lib/python3.9/site-packages/sklearn/utils/validation.py:332\u001b[0m, in \u001b[0;36mcheck_consistent_length\u001b[0;34m(*arrays)\u001b[0m\n\u001b[1;32m    <a href='file:///home/wthunder/anaconda3/envs/tf_gpu2/lib/python3.9/site-packages/sklearn/utils/validation.py?line=329'>330</a>\u001b[0m uniques \u001b[39m=\u001b[39m np\u001b[39m.\u001b[39munique(lengths)\n\u001b[1;32m    <a href='file:///home/wthunder/anaconda3/envs/tf_gpu2/lib/python3.9/site-packages/sklearn/utils/validation.py?line=330'>331</a>\u001b[0m \u001b[39mif\u001b[39;00m \u001b[39mlen\u001b[39m(uniques) \u001b[39m>\u001b[39m \u001b[39m1\u001b[39m:\n\u001b[0;32m--> <a href='file:///home/wthunder/anaconda3/envs/tf_gpu2/lib/python3.9/site-packages/sklearn/utils/validation.py?line=331'>332</a>\u001b[0m     \u001b[39mraise\u001b[39;00m \u001b[39mValueError\u001b[39;00m(\n\u001b[1;32m    <a href='file:///home/wthunder/anaconda3/envs/tf_gpu2/lib/python3.9/site-packages/sklearn/utils/validation.py?line=332'>333</a>\u001b[0m         \u001b[39m\"\u001b[39m\u001b[39mFound input variables with inconsistent numbers of samples: \u001b[39m\u001b[39m%r\u001b[39;00m\u001b[39m\"\u001b[39m\n\u001b[1;32m    <a href='file:///home/wthunder/anaconda3/envs/tf_gpu2/lib/python3.9/site-packages/sklearn/utils/validation.py?line=333'>334</a>\u001b[0m         \u001b[39m%\u001b[39m [\u001b[39mint\u001b[39m(l) \u001b[39mfor\u001b[39;00m l \u001b[39min\u001b[39;00m lengths]\n\u001b[1;32m    <a href='file:///home/wthunder/anaconda3/envs/tf_gpu2/lib/python3.9/site-packages/sklearn/utils/validation.py?line=334'>335</a>\u001b[0m     )\n",
      "\u001b[0;31mValueError\u001b[0m: Found input variables with inconsistent numbers of samples: [1833, 1832]"
     ]
    }
   ],
   "source": [
    "from sklearn.metrics import mean_squared_error\n",
    "\n",
    "mean_squared_error(true_vals, testing_predictions[0][0])"
   ]
  },
  {
   "cell_type": "code",
   "execution_count": 197,
   "metadata": {},
   "outputs": [
    {
     "data": {
      "image/png": "[encoded data removed]",
      "text/plain": [
       "<Figure size 432x288 with 1 Axes>"
      ]
     },
     "metadata": {
      "needs_background": "light"
     },
     "output_type": "display_data"
    }
   ],
   "source": [
    "aapl_dataframe = pd.read_csv('AAPL.csv')\n",
    "\n",
    "fig, ax = plt.subplots()\n",
    "\n",
    "fmt_half_year = mdates.MonthLocator(interval=48)\n",
    "ax.xaxis.set_major_locator(fmt_half_year)\n",
    "\n",
    "ax.xaxis.set_major_formatter(mdates.DateFormatter('%Y-%m'))\n",
    "\n",
    "fig.autofmt_xdate()\n",
    "\n",
    "plt.plot(aapl_dataframe.Date, aapl_dataframe.Close)\n",
    "plt.xlabel('Date')\n",
    "plt.ylabel('Price')\n",
    "plt.show()"
   ]
  },
  {
   "cell_type": "code",
   "execution_count": 170,
   "metadata": {},
   "outputs": [
    {
     "name": "stdout",
     "output_type": "stream",
     "text": [
      "['1980-12-12' '1980-12-15' '1980-12-16' ... '2022-04-08' '2022-04-11'\n",
      " '2022-04-12']\n"
     ]
    }
   ],
   "source": [
    "aapl_date = aapl_dataframe.Date\n",
    "print(aapl_date.values)"
   ]
  },
  {
   "cell_type": "code",
   "execution_count": 171,
   "metadata": {},
   "outputs": [],
   "source": [
    "aapl_dataframe = aapl_dataframe.drop(['Date'], axis=1)"
   ]
  },
  {
   "cell_type": "code",
   "execution_count": 172,
   "metadata": {},
   "outputs": [
    {
     "name": "stdout",
     "output_type": "stream",
     "text": [
      "(9095, 1, 1)\n",
      "tf.Tensor(\n",
      "[[[8.85420000e-02]]\n",
      "\n",
      " [[9.72220000e-02]]\n",
      "\n",
      " [[1.00694000e-01]]\n",
      "\n",
      " ...\n",
      "\n",
      " [[2.96660004e+02]]\n",
      "\n",
      " [[3.00440002e+02]]\n",
      "\n",
      " [[2.91790009e+02]]], shape=(9095, 1, 1), dtype=float64)\n",
      "[1.22210000e-01 1.13281000e-01 1.15513000e-01 ... 1.71779999e+02\n",
      " 1.68710007e+02 1.68020004e+02]\n"
     ]
    }
   ],
   "source": [
    "\n",
    "aapl_dataframe = aapl_dataframe.astype('float64')\n",
    "\n",
    "aapl_dataset = aapl_dataframe[['Open', 'Close']]\n",
    "\n",
    "aapl_train_x, aapl_train_y = create_dataset(aapl_dataset.values, look_back)\n",
    "\n",
    "aapl_train_X = tf.reshape(train_X, [len(train_X),1, 1])\n",
    "print(aapl_train_X.shape)\n",
    "print(aapl_train_X)\n",
    "print(aapl_train_y)"
   ]
  },
  {
   "cell_type": "code",
   "execution_count": 173,
   "metadata": {},
   "outputs": [
    {
     "name": "stdout",
     "output_type": "stream",
     "text": [
      "[ 0.27659225  0.2815113   0.28348732 ... 83.22425    83.22425\n",
      " 83.22425   ]\n"
     ]
    },
    {
     "data": {
      "image/png": "[encoded data removed]",
      "text/plain": [
       "<Figure size 432x288 with 1 Axes>"
      ]
     },
     "metadata": {
      "needs_background": "light"
     },
     "output_type": "display_data"
    }
   ],
   "source": [
    "aapl_predict = model.predict(aapl_train_X)\n",
    "aapl_predict = np.array(tf.reshape(aapl_predict, [1, 1,len(aapl_predict)]))\n",
    "print(aapl_predict[0][0])\n",
    "\n",
    "\n",
    "plt.plot(aapl_predict[0][0])\n",
    "plt.plot(aapl_dataset['Close'].values)\n",
    "plt.show()"
   ]
  }
 ],
 "metadata": {
  "interpreter": {
   "hash": "7978af0a4b67bc6935640db490136eb6b4789de4a1d83aa959b928abde7e220a"
  },
  "kernelspec": {
   "display_name": "Python 3.9.12 ('tf-gpu')",
   "language": "python",
   "name": "python3"
  },
  "language_info": {
   "codemirror_mode": {
    "name": "ipython",
    "version": 3
   },
   "file_extension": ".py",
   "mimetype": "text/x-python",
   "name": "python",
   "nbconvert_exporter": "python",
   "pygments_lexer": "ipython3",
   "version": "3.9.12"
  },
  "orig_nbformat": 4
 },
 "nbformat": 4,
 "nbformat_minor": 2
}
